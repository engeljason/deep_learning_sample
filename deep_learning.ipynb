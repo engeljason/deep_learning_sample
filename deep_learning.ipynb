{
 "cells": [
  {
   "cell_type": "markdown",
   "metadata": {},
   "source": [
    "## Preprocessing"
   ]
  },
  {
   "cell_type": "code",
   "execution_count": 1,
   "metadata": {},
   "outputs": [
    {
     "name": "stderr",
     "output_type": "stream",
     "text": [
      "C:\\Users\\Jason\\anaconda3\\envs\\PythonData\\lib\\site-packages\\tensorflow\\python\\framework\\dtypes.py:516: FutureWarning: Passing (type, 1) or '1type' as a synonym of type is deprecated; in a future version of numpy, it will be understood as (type, (1,)) / '(1,)type'.\n",
      "  _np_qint8 = np.dtype([(\"qint8\", np.int8, 1)])\n",
      "C:\\Users\\Jason\\anaconda3\\envs\\PythonData\\lib\\site-packages\\tensorflow\\python\\framework\\dtypes.py:517: FutureWarning: Passing (type, 1) or '1type' as a synonym of type is deprecated; in a future version of numpy, it will be understood as (type, (1,)) / '(1,)type'.\n",
      "  _np_quint8 = np.dtype([(\"quint8\", np.uint8, 1)])\n",
      "C:\\Users\\Jason\\anaconda3\\envs\\PythonData\\lib\\site-packages\\tensorflow\\python\\framework\\dtypes.py:518: FutureWarning: Passing (type, 1) or '1type' as a synonym of type is deprecated; in a future version of numpy, it will be understood as (type, (1,)) / '(1,)type'.\n",
      "  _np_qint16 = np.dtype([(\"qint16\", np.int16, 1)])\n",
      "C:\\Users\\Jason\\anaconda3\\envs\\PythonData\\lib\\site-packages\\tensorflow\\python\\framework\\dtypes.py:519: FutureWarning: Passing (type, 1) or '1type' as a synonym of type is deprecated; in a future version of numpy, it will be understood as (type, (1,)) / '(1,)type'.\n",
      "  _np_quint16 = np.dtype([(\"quint16\", np.uint16, 1)])\n",
      "C:\\Users\\Jason\\anaconda3\\envs\\PythonData\\lib\\site-packages\\tensorflow\\python\\framework\\dtypes.py:520: FutureWarning: Passing (type, 1) or '1type' as a synonym of type is deprecated; in a future version of numpy, it will be understood as (type, (1,)) / '(1,)type'.\n",
      "  _np_qint32 = np.dtype([(\"qint32\", np.int32, 1)])\n",
      "C:\\Users\\Jason\\anaconda3\\envs\\PythonData\\lib\\site-packages\\tensorflow\\python\\framework\\dtypes.py:525: FutureWarning: Passing (type, 1) or '1type' as a synonym of type is deprecated; in a future version of numpy, it will be understood as (type, (1,)) / '(1,)type'.\n",
      "  np_resource = np.dtype([(\"resource\", np.ubyte, 1)])\n",
      "C:\\Users\\Jason\\anaconda3\\envs\\PythonData\\lib\\site-packages\\tensorboard\\compat\\tensorflow_stub\\dtypes.py:541: FutureWarning: Passing (type, 1) or '1type' as a synonym of type is deprecated; in a future version of numpy, it will be understood as (type, (1,)) / '(1,)type'.\n",
      "  _np_qint8 = np.dtype([(\"qint8\", np.int8, 1)])\n",
      "C:\\Users\\Jason\\anaconda3\\envs\\PythonData\\lib\\site-packages\\tensorboard\\compat\\tensorflow_stub\\dtypes.py:542: FutureWarning: Passing (type, 1) or '1type' as a synonym of type is deprecated; in a future version of numpy, it will be understood as (type, (1,)) / '(1,)type'.\n",
      "  _np_quint8 = np.dtype([(\"quint8\", np.uint8, 1)])\n",
      "C:\\Users\\Jason\\anaconda3\\envs\\PythonData\\lib\\site-packages\\tensorboard\\compat\\tensorflow_stub\\dtypes.py:543: FutureWarning: Passing (type, 1) or '1type' as a synonym of type is deprecated; in a future version of numpy, it will be understood as (type, (1,)) / '(1,)type'.\n",
      "  _np_qint16 = np.dtype([(\"qint16\", np.int16, 1)])\n",
      "C:\\Users\\Jason\\anaconda3\\envs\\PythonData\\lib\\site-packages\\tensorboard\\compat\\tensorflow_stub\\dtypes.py:544: FutureWarning: Passing (type, 1) or '1type' as a synonym of type is deprecated; in a future version of numpy, it will be understood as (type, (1,)) / '(1,)type'.\n",
      "  _np_quint16 = np.dtype([(\"quint16\", np.uint16, 1)])\n",
      "C:\\Users\\Jason\\anaconda3\\envs\\PythonData\\lib\\site-packages\\tensorboard\\compat\\tensorflow_stub\\dtypes.py:545: FutureWarning: Passing (type, 1) or '1type' as a synonym of type is deprecated; in a future version of numpy, it will be understood as (type, (1,)) / '(1,)type'.\n",
      "  _np_qint32 = np.dtype([(\"qint32\", np.int32, 1)])\n",
      "C:\\Users\\Jason\\anaconda3\\envs\\PythonData\\lib\\site-packages\\tensorboard\\compat\\tensorflow_stub\\dtypes.py:550: FutureWarning: Passing (type, 1) or '1type' as a synonym of type is deprecated; in a future version of numpy, it will be understood as (type, (1,)) / '(1,)type'.\n",
      "  np_resource = np.dtype([(\"resource\", np.ubyte, 1)])\n"
     ]
    }
   ],
   "source": [
    "# Import our dependencies\n",
    "from sklearn.model_selection import train_test_split\n",
    "from sklearn.preprocessing import StandardScaler\n",
    "import pandas as pd\n",
    "import tensorflow as tf"
   ]
  },
  {
   "cell_type": "code",
   "execution_count": 2,
   "metadata": {},
   "outputs": [
    {
     "data": {
      "text/html": [
       "<div>\n",
       "<style scoped>\n",
       "    .dataframe tbody tr th:only-of-type {\n",
       "        vertical-align: middle;\n",
       "    }\n",
       "\n",
       "    .dataframe tbody tr th {\n",
       "        vertical-align: top;\n",
       "    }\n",
       "\n",
       "    .dataframe thead th {\n",
       "        text-align: right;\n",
       "    }\n",
       "</style>\n",
       "<table border=\"1\" class=\"dataframe\">\n",
       "  <thead>\n",
       "    <tr style=\"text-align: right;\">\n",
       "      <th></th>\n",
       "      <th>NAME</th>\n",
       "      <th>APPLICATION_TYPE</th>\n",
       "      <th>AFFILIATION</th>\n",
       "      <th>CLASSIFICATION</th>\n",
       "      <th>USE_CASE</th>\n",
       "      <th>ORGANIZATION</th>\n",
       "      <th>STATUS</th>\n",
       "      <th>INCOME_AMT</th>\n",
       "      <th>SPECIAL_CONSIDERATIONS</th>\n",
       "      <th>ASK_AMT</th>\n",
       "      <th>IS_SUCCESSFUL</th>\n",
       "    </tr>\n",
       "    <tr>\n",
       "      <th>EIN</th>\n",
       "      <th></th>\n",
       "      <th></th>\n",
       "      <th></th>\n",
       "      <th></th>\n",
       "      <th></th>\n",
       "      <th></th>\n",
       "      <th></th>\n",
       "      <th></th>\n",
       "      <th></th>\n",
       "      <th></th>\n",
       "      <th></th>\n",
       "    </tr>\n",
       "  </thead>\n",
       "  <tbody>\n",
       "    <tr>\n",
       "      <th>10520599</th>\n",
       "      <td>BLUE KNIGHTS MOTORCYCLE CLUB</td>\n",
       "      <td>T10</td>\n",
       "      <td>Independent</td>\n",
       "      <td>C1000</td>\n",
       "      <td>ProductDev</td>\n",
       "      <td>Association</td>\n",
       "      <td>1</td>\n",
       "      <td>0</td>\n",
       "      <td>N</td>\n",
       "      <td>5000</td>\n",
       "      <td>1</td>\n",
       "    </tr>\n",
       "  </tbody>\n",
       "</table>\n",
       "</div>"
      ],
      "text/plain": [
       "                                  NAME APPLICATION_TYPE  AFFILIATION  \\\n",
       "EIN                                                                    \n",
       "10520599  BLUE KNIGHTS MOTORCYCLE CLUB              T10  Independent   \n",
       "\n",
       "         CLASSIFICATION    USE_CASE ORGANIZATION  STATUS INCOME_AMT  \\\n",
       "EIN                                                                   \n",
       "10520599          C1000  ProductDev  Association       1          0   \n",
       "\n",
       "         SPECIAL_CONSIDERATIONS  ASK_AMT  IS_SUCCESSFUL  \n",
       "EIN                                                      \n",
       "10520599                      N     5000              1  "
      ]
     },
     "execution_count": 2,
     "metadata": {},
     "output_type": "execute_result"
    }
   ],
   "source": [
    "#  Import and read the charity_data.csv.\n",
    "import pandas as pd \n",
    "df = pd.read_csv(\"../Resources/charity_data.csv\").set_index('EIN')\n",
    "df.head(1)"
   ]
  },
  {
   "cell_type": "code",
   "execution_count": 3,
   "metadata": {},
   "outputs": [],
   "source": [
    "# Drop the non-beneficial ID columns, 'EIN' and 'NAME'.\n",
    "df.drop(columns=['NAME', 'STATUS'], inplace=True)"
   ]
  },
  {
   "cell_type": "code",
   "execution_count": 4,
   "metadata": {},
   "outputs": [
    {
     "data": {
      "text/plain": [
       "APPLICATION_TYPE            17\n",
       "AFFILIATION                  6\n",
       "CLASSIFICATION              71\n",
       "USE_CASE                     5\n",
       "ORGANIZATION                 4\n",
       "INCOME_AMT                   9\n",
       "SPECIAL_CONSIDERATIONS       2\n",
       "ASK_AMT                   8747\n",
       "IS_SUCCESSFUL                2\n",
       "dtype: int64"
      ]
     },
     "execution_count": 4,
     "metadata": {},
     "output_type": "execute_result"
    }
   ],
   "source": [
    "# Determine the number of unique values in each column.\n",
    "df.nunique()"
   ]
  },
  {
   "cell_type": "code",
   "execution_count": 5,
   "metadata": {},
   "outputs": [
    {
     "data": {
      "text/plain": [
       "T3     27037\n",
       "T4      1542\n",
       "T6      1216\n",
       "T5      1173\n",
       "T19     1065\n",
       "T8       737\n",
       "T7       725\n",
       "T10      528\n",
       "T9       156\n",
       "T13       66\n",
       "T12       27\n",
       "T2        16\n",
       "T14        3\n",
       "T25        3\n",
       "T29        2\n",
       "T15        2\n",
       "T17        1\n",
       "Name: APPLICATION_TYPE, dtype: int64"
      ]
     },
     "execution_count": 5,
     "metadata": {},
     "output_type": "execute_result"
    }
   ],
   "source": [
    "# Look at APPLICATION_TYPE value counts for binning\n",
    "vc = df['APPLICATION_TYPE'].value_counts()\n",
    "vc"
   ]
  },
  {
   "cell_type": "code",
   "execution_count": 6,
   "metadata": {},
   "outputs": [
    {
     "data": {
      "text/plain": [
       "0     T9\n",
       "1    T13\n",
       "2    T12\n",
       "3     T2\n",
       "4    T14\n",
       "5    T25\n",
       "6    T29\n",
       "7    T15\n",
       "8    T17\n",
       "Name: index, dtype: object"
      ]
     },
     "execution_count": 6,
     "metadata": {},
     "output_type": "execute_result"
    }
   ],
   "source": [
    "# Choose a cutoff value and create a list of application types to be replaced\n",
    "repl = vc.loc[lambda x: x<= vc[8]].reset_index()['index']\n",
    "repl"
   ]
  },
  {
   "cell_type": "code",
   "execution_count": 7,
   "metadata": {},
   "outputs": [
    {
     "data": {
      "text/plain": [
       "T3       27037\n",
       "T4        1542\n",
       "T6        1216\n",
       "T5        1173\n",
       "T19       1065\n",
       "T8         737\n",
       "T7         725\n",
       "T10        528\n",
       "Other      276\n",
       "Name: APPLICATION_TYPE, dtype: int64"
      ]
     },
     "execution_count": 7,
     "metadata": {},
     "output_type": "execute_result"
    }
   ],
   "source": [
    "# Replace in dataframe\n",
    "for app in repl:\n",
    "    df['APPLICATION_TYPE'] = df['APPLICATION_TYPE'].replace(app,\"Other\")\n",
    "\n",
    "# Check to make sure binning was successful\n",
    "df['APPLICATION_TYPE'].value_counts()"
   ]
  },
  {
   "cell_type": "code",
   "execution_count": 8,
   "metadata": {},
   "outputs": [
    {
     "data": {
      "text/plain": [
       "C1000    17326\n",
       "C2000     6074\n",
       "C1200     4837\n",
       "C3000     1918\n",
       "C2100     1883\n",
       "C7000      777\n",
       "C1700      287\n",
       "C4000      194\n",
       "C5000      116\n",
       "C1270      114\n",
       "C2700      104\n",
       "Name: CLASSIFICATION, dtype: int64"
      ]
     },
     "execution_count": 8,
     "metadata": {},
     "output_type": "execute_result"
    }
   ],
   "source": [
    "# Look at CLASSIFICATION value counts for binning\n",
    "vc = df['CLASSIFICATION'].value_counts()\n",
    "vc[0:11]"
   ]
  },
  {
   "cell_type": "code",
   "execution_count": 9,
   "metadata": {},
   "outputs": [
    {
     "data": {
      "text/plain": [
       "0     C5000\n",
       "1     C1270\n",
       "2     C2700\n",
       "3     C2800\n",
       "4     C7100\n",
       "      ...  \n",
       "58    C2150\n",
       "59    C6100\n",
       "60    C1570\n",
       "61    C1236\n",
       "62    C2500\n",
       "Name: index, Length: 63, dtype: object"
      ]
     },
     "execution_count": 9,
     "metadata": {},
     "output_type": "execute_result"
    }
   ],
   "source": [
    "# You may find it helpful to look at CLASSIFICATION value counts >1\n",
    "repl = vc.loc[lambda x: x< vc[7]].reset_index()['index']\n",
    "repl"
   ]
  },
  {
   "cell_type": "code",
   "execution_count": 10,
   "metadata": {},
   "outputs": [
    {
     "data": {
      "text/plain": [
       "C1000    17326\n",
       "C2000     6074\n",
       "C1200     4837\n",
       "C3000     1918\n",
       "C2100     1883\n",
       "Other     1003\n",
       "C7000      777\n",
       "C1700      287\n",
       "C4000      194\n",
       "Name: CLASSIFICATION, dtype: int64"
      ]
     },
     "execution_count": 10,
     "metadata": {},
     "output_type": "execute_result"
    }
   ],
   "source": [
    "# Replace in dataframe\n",
    "for app in repl:\n",
    "    df['CLASSIFICATION'] = df['CLASSIFICATION'].replace(app,\"Other\")\n",
    "\n",
    "# Check to make sure binning was successful\n",
    "df['CLASSIFICATION'].value_counts()"
   ]
  },
  {
   "cell_type": "code",
   "execution_count": 11,
   "metadata": {},
   "outputs": [
    {
     "data": {
      "text/plain": [
       "(34299, 46)"
      ]
     },
     "execution_count": 11,
     "metadata": {},
     "output_type": "execute_result"
    }
   ],
   "source": [
    "# Convert categorical data to numeric with `pd.get_dummies`\n",
    "dums = pd.get_dummies(df)\n",
    "dums.shape"
   ]
  },
  {
   "cell_type": "code",
   "execution_count": 12,
   "metadata": {},
   "outputs": [],
   "source": [
    "# Split our preprocessed data into our features and target arrays\n",
    "y = dums['IS_SUCCESSFUL']\n",
    "X = dums.drop(columns = 'IS_SUCCESSFUL')\n",
    "\n",
    "# Split the preprocessed data into a training and testing dataset\n",
    "X_train, X_test, y_train, y_test = train_test_split(X, y, random_state=12345)"
   ]
  },
  {
   "cell_type": "code",
   "execution_count": 13,
   "metadata": {},
   "outputs": [],
   "source": [
    "# Create a StandardScaler instances\n",
    "scaler = StandardScaler()\n",
    "\n",
    "# Fit the StandardScaler\n",
    "X_scaler = scaler.fit(X_train)\n",
    "\n",
    "# Scale the data\n",
    "X_train_scaled = X_scaler.transform(X_train)\n",
    "X_test_scaled = X_scaler.transform(X_test)"
   ]
  },
  {
   "cell_type": "markdown",
   "metadata": {},
   "source": [
    "## Compile, Train and Evaluate the Model"
   ]
  },
  {
   "cell_type": "code",
   "execution_count": 14,
   "metadata": {},
   "outputs": [],
   "source": [
    "# Define the model - deep neural net, i.e., the number of input features and hidden nodes for each layer.\n",
    "layers = [\n",
    "    {'units' : 100, 'activation': 'relu', 'input_dim': X_train_scaled.shape[1]},\n",
    "    {'units' : 50, 'activation': 'relu'},\n",
    "    {'units' : 50, 'activation': 'relu'},\n",
    "    {'units' : 50, 'activation': 'relu'},\n",
    "    {'units' : 1, 'activation': 'sigmoid'}\n",
    "]"
   ]
  },
  {
   "cell_type": "code",
   "execution_count": 15,
   "metadata": {},
   "outputs": [
    {
     "name": "stdout",
     "output_type": "stream",
     "text": [
      "WARNING:tensorflow:From C:\\Users\\Jason\\anaconda3\\envs\\PythonData\\lib\\site-packages\\tensorflow\\python\\ops\\init_ops.py:1251: calling VarianceScaling.__init__ (from tensorflow.python.ops.init_ops) with dtype is deprecated and will be removed in a future version.\n",
      "Instructions for updating:\n",
      "Call initializer instance with the dtype argument instead of passing it to the constructor\n",
      "Model: \"sequential\"\n",
      "_________________________________________________________________\n",
      "Layer (type)                 Output Shape              Param #   \n",
      "=================================================================\n",
      "dense (Dense)                (None, 100)               4600      \n",
      "_________________________________________________________________\n",
      "dense_1 (Dense)              (None, 50)                5050      \n",
      "_________________________________________________________________\n",
      "dense_2 (Dense)              (None, 50)                2550      \n",
      "_________________________________________________________________\n",
      "dense_3 (Dense)              (None, 50)                2550      \n",
      "_________________________________________________________________\n",
      "dense_4 (Dense)              (None, 1)                 51        \n",
      "=================================================================\n",
      "Total params: 14,801\n",
      "Trainable params: 14,801\n",
      "Non-trainable params: 0\n",
      "_________________________________________________________________\n"
     ]
    }
   ],
   "source": [
    "\n",
    "nn = tf.keras.models.Sequential()\n",
    "\n",
    "for layer in layers:\n",
    "    nn.add(tf.keras.layers.Dense(**layer))\n",
    "\n",
    "# Check the structure of the model\n",
    "nn.summary()"
   ]
  },
  {
   "cell_type": "code",
   "execution_count": 16,
   "metadata": {},
   "outputs": [
    {
     "name": "stdout",
     "output_type": "stream",
     "text": [
      "WARNING:tensorflow:From C:\\Users\\Jason\\anaconda3\\envs\\PythonData\\lib\\site-packages\\tensorflow\\python\\ops\\nn_impl.py:180: add_dispatch_support.<locals>.wrapper (from tensorflow.python.ops.array_ops) is deprecated and will be removed in a future version.\n",
      "Instructions for updating:\n",
      "Use tf.where in 2.0, which has the same broadcast rule as np.where\n"
     ]
    }
   ],
   "source": [
    "# Compile the model\n",
    "nn.compile(optimizer = 'adam', loss='binary_crossentropy', metrics=['accuracy'])"
   ]
  },
  {
   "cell_type": "code",
   "execution_count": 17,
   "metadata": {},
   "outputs": [
    {
     "name": "stdout",
     "output_type": "stream",
     "text": [
      "Epoch 1/200\n",
      "25724/25724 [==============================] - 1s 41us/sample - loss: 0.5699 - acc: 0.7221\n",
      "Epoch 2/200\n",
      "25724/25724 [==============================] - 1s 33us/sample - loss: 0.5546 - acc: 0.7288\n",
      "Epoch 3/200\n",
      "25724/25724 [==============================] - 1s 34us/sample - loss: 0.5511 - acc: 0.7328\n",
      "Epoch 4/200\n",
      "25724/25724 [==============================] - 1s 34us/sample - loss: 0.5496 - acc: 0.7320\n",
      "Epoch 5/200\n",
      "25724/25724 [==============================] - 1s 39us/sample - loss: 0.5479 - acc: 0.7328\n",
      "Epoch 6/200\n",
      "25724/25724 [==============================] - 1s 35us/sample - loss: 0.5473 - acc: 0.7329\n",
      "Epoch 7/200\n",
      "25724/25724 [==============================] - 1s 34us/sample - loss: 0.5461 - acc: 0.7341\n",
      "Epoch 8/200\n",
      "25724/25724 [==============================] - 1s 37us/sample - loss: 0.5455 - acc: 0.7355\n",
      "Epoch 9/200\n",
      "25724/25724 [==============================] - 1s 32us/sample - loss: 0.5450 - acc: 0.7352\n",
      "Epoch 10/200\n",
      "25724/25724 [==============================] - 1s 32us/sample - loss: 0.5436 - acc: 0.7353\n",
      "Epoch 11/200\n",
      "25724/25724 [==============================] - 1s 32us/sample - loss: 0.5440 - acc: 0.7360\n",
      "Epoch 12/200\n",
      "25724/25724 [==============================] - 1s 32us/sample - loss: 0.5434 - acc: 0.7345\n",
      "Epoch 13/200\n",
      "25724/25724 [==============================] - 1s 33us/sample - loss: 0.5429 - acc: 0.7355\n",
      "Epoch 14/200\n",
      "25724/25724 [==============================] - 1s 32us/sample - loss: 0.5421 - acc: 0.7359\n",
      "Epoch 15/200\n",
      "25724/25724 [==============================] - 1s 32us/sample - loss: 0.5423 - acc: 0.7362\n",
      "Epoch 16/200\n",
      "25724/25724 [==============================] - 1s 32us/sample - loss: 0.5411 - acc: 0.7365\n",
      "Epoch 17/200\n",
      "25724/25724 [==============================] - 1s 32us/sample - loss: 0.5410 - acc: 0.7376\n",
      "Epoch 18/200\n",
      "25724/25724 [==============================] - 1s 31us/sample - loss: 0.5408 - acc: 0.7369\n",
      "Epoch 19/200\n",
      "25724/25724 [==============================] - 1s 35us/sample - loss: 0.5403 - acc: 0.7377\n",
      "Epoch 20/200\n",
      "25724/25724 [==============================] - 1s 32us/sample - loss: 0.5391 - acc: 0.7375\n",
      "Epoch 21/200\n",
      "25724/25724 [==============================] - 1s 31us/sample - loss: 0.5397 - acc: 0.7385\n",
      "Epoch 22/200\n",
      "25724/25724 [==============================] - 1s 32us/sample - loss: 0.5392 - acc: 0.7385\n",
      "Epoch 23/200\n",
      "25724/25724 [==============================] - 1s 32us/sample - loss: 0.5386 - acc: 0.7385\n",
      "Epoch 24/200\n",
      "25724/25724 [==============================] - 1s 33us/sample - loss: 0.5386 - acc: 0.7384\n",
      "Epoch 25/200\n",
      "25724/25724 [==============================] - 1s 32us/sample - loss: 0.5386 - acc: 0.7379\n",
      "Epoch 26/200\n",
      "25724/25724 [==============================] - 1s 33us/sample - loss: 0.5381 - acc: 0.7385\n",
      "Epoch 27/200\n",
      "25724/25724 [==============================] - 1s 33us/sample - loss: 0.5379 - acc: 0.7379\n",
      "Epoch 28/200\n",
      "25724/25724 [==============================] - 1s 32us/sample - loss: 0.5377 - acc: 0.7392\n",
      "Epoch 29/200\n",
      "25724/25724 [==============================] - 1s 34us/sample - loss: 0.5372 - acc: 0.7394\n",
      "Epoch 30/200\n",
      "25724/25724 [==============================] - 1s 32us/sample - loss: 0.5363 - acc: 0.7385\n",
      "Epoch 31/200\n",
      "25724/25724 [==============================] - 1s 34us/sample - loss: 0.5375 - acc: 0.7392\n",
      "Epoch 32/200\n",
      "25724/25724 [==============================] - 1s 33us/sample - loss: 0.5367 - acc: 0.7398\n",
      "Epoch 33/200\n",
      "25724/25724 [==============================] - 1s 32us/sample - loss: 0.5365 - acc: 0.7394\n",
      "Epoch 34/200\n",
      "25724/25724 [==============================] - 1s 33us/sample - loss: 0.5361 - acc: 0.7391\n",
      "Epoch 35/200\n",
      "25724/25724 [==============================] - 1s 33us/sample - loss: 0.5359 - acc: 0.7390\n",
      "Epoch 36/200\n",
      "25724/25724 [==============================] - 1s 32us/sample - loss: 0.5357 - acc: 0.7398\n",
      "Epoch 37/200\n",
      "25724/25724 [==============================] - 1s 32us/sample - loss: 0.5355 - acc: 0.7403\n",
      "Epoch 38/200\n",
      "25724/25724 [==============================] - 1s 32us/sample - loss: 0.5361 - acc: 0.7397\n",
      "Epoch 39/200\n",
      "25724/25724 [==============================] - 1s 38us/sample - loss: 0.5356 - acc: 0.7396\n",
      "Epoch 40/200\n",
      "25724/25724 [==============================] - 1s 38us/sample - loss: 0.5351 - acc: 0.7405\n",
      "Epoch 41/200\n",
      "25724/25724 [==============================] - 1s 35us/sample - loss: 0.5350 - acc: 0.7396\n",
      "Epoch 42/200\n",
      "25724/25724 [==============================] - 1s 34us/sample - loss: 0.5350 - acc: 0.7397\n",
      "Epoch 43/200\n",
      "25724/25724 [==============================] - 1s 35us/sample - loss: 0.5345 - acc: 0.7398\n",
      "Epoch 44/200\n",
      "25724/25724 [==============================] - 1s 33us/sample - loss: 0.5347 - acc: 0.7395\n",
      "Epoch 45/200\n",
      "25724/25724 [==============================] - 1s 32us/sample - loss: 0.5339 - acc: 0.7403\n",
      "Epoch 46/200\n",
      "25724/25724 [==============================] - 1s 33us/sample - loss: 0.5340 - acc: 0.7407\n",
      "Epoch 47/200\n",
      "25724/25724 [==============================] - 1s 33us/sample - loss: 0.5336 - acc: 0.7398\n",
      "Epoch 48/200\n",
      "25724/25724 [==============================] - 1s 34us/sample - loss: 0.5345 - acc: 0.7407\n",
      "Epoch 49/200\n",
      "25724/25724 [==============================] - 1s 32us/sample - loss: 0.5340 - acc: 0.7406\n",
      "Epoch 50/200\n",
      "25724/25724 [==============================] - 1s 32us/sample - loss: 0.5339 - acc: 0.7406\n",
      "Epoch 51/200\n",
      "25724/25724 [==============================] - 1s 33us/sample - loss: 0.5337 - acc: 0.7409\n",
      "Epoch 52/200\n",
      "25724/25724 [==============================] - 1s 33us/sample - loss: 0.5327 - acc: 0.7407\n",
      "Epoch 53/200\n",
      "25724/25724 [==============================] - 1s 32us/sample - loss: 0.5333 - acc: 0.7414\n",
      "Epoch 54/200\n",
      "25724/25724 [==============================] - 1s 33us/sample - loss: 0.5330 - acc: 0.7406\n",
      "Epoch 55/200\n",
      "25724/25724 [==============================] - 1s 38us/sample - loss: 0.5334 - acc: 0.7406\n",
      "Epoch 56/200\n",
      "25724/25724 [==============================] - 1s 34us/sample - loss: 0.5327 - acc: 0.7409\n",
      "Epoch 57/200\n",
      "25724/25724 [==============================] - 1s 35us/sample - loss: 0.5332 - acc: 0.7405\n",
      "Epoch 58/200\n",
      "25724/25724 [==============================] - 1s 35us/sample - loss: 0.5329 - acc: 0.7407\n",
      "Epoch 59/200\n",
      "25724/25724 [==============================] - 1s 35us/sample - loss: 0.5330 - acc: 0.7412\n",
      "Epoch 60/200\n",
      "25724/25724 [==============================] - 1s 36us/sample - loss: 0.5327 - acc: 0.7414\n",
      "Epoch 61/200\n",
      "25724/25724 [==============================] - 1s 34us/sample - loss: 0.5322 - acc: 0.7407\n",
      "Epoch 62/200\n",
      "25724/25724 [==============================] - 1s 34us/sample - loss: 0.5321 - acc: 0.7423\n",
      "Epoch 63/200\n",
      "25724/25724 [==============================] - 1s 32us/sample - loss: 0.5320 - acc: 0.7417\n",
      "Epoch 64/200\n",
      "25724/25724 [==============================] - 1s 35us/sample - loss: 0.5329 - acc: 0.7415\n",
      "Epoch 65/200\n",
      "25724/25724 [==============================] - 1s 32us/sample - loss: 0.5322 - acc: 0.7411\n",
      "Epoch 66/200\n",
      "25724/25724 [==============================] - 1s 35us/sample - loss: 0.5321 - acc: 0.7408\n",
      "Epoch 67/200\n",
      "25724/25724 [==============================] - 1s 33us/sample - loss: 0.5315 - acc: 0.7417\n",
      "Epoch 68/200\n",
      "25724/25724 [==============================] - 1s 34us/sample - loss: 0.5317 - acc: 0.7420\n",
      "Epoch 69/200\n",
      "25724/25724 [==============================] - 1s 33us/sample - loss: 0.5326 - acc: 0.7413\n",
      "Epoch 70/200\n",
      "25724/25724 [==============================] - 1s 34us/sample - loss: 0.5316 - acc: 0.7412\n",
      "Epoch 71/200\n",
      "25724/25724 [==============================] - 1s 33us/sample - loss: 0.5313 - acc: 0.7422\n",
      "Epoch 72/200\n",
      "25724/25724 [==============================] - 1s 33us/sample - loss: 0.5323 - acc: 0.7414\n",
      "Epoch 73/200\n",
      "25724/25724 [==============================] - 1s 39us/sample - loss: 0.5318 - acc: 0.7416\n",
      "Epoch 74/200\n",
      "25724/25724 [==============================] - 1s 34us/sample - loss: 0.5322 - acc: 0.7418\n",
      "Epoch 75/200\n",
      "25724/25724 [==============================] - 1s 39us/sample - loss: 0.5310 - acc: 0.7419\n",
      "Epoch 76/200\n",
      "25724/25724 [==============================] - 1s 38us/sample - loss: 0.5312 - acc: 0.7417\n",
      "Epoch 77/200\n",
      "25724/25724 [==============================] - 1s 37us/sample - loss: 0.5315 - acc: 0.7419\n",
      "Epoch 78/200\n",
      "25724/25724 [==============================] - 1s 35us/sample - loss: 0.5318 - acc: 0.7415\n",
      "Epoch 79/200\n",
      "25724/25724 [==============================] - 1s 34us/sample - loss: 0.5326 - acc: 0.7417\n",
      "Epoch 80/200\n",
      "25724/25724 [==============================] - 1s 33us/sample - loss: 0.5320 - acc: 0.7414\n",
      "Epoch 81/200\n",
      "25724/25724 [==============================] - 1s 34us/sample - loss: 0.5330 - acc: 0.7416\n",
      "Epoch 82/200\n",
      "25724/25724 [==============================] - 1s 35us/sample - loss: 0.5311 - acc: 0.7417\n",
      "Epoch 83/200\n",
      "25724/25724 [==============================] - 1s 33us/sample - loss: 0.5303 - acc: 0.7403\n",
      "Epoch 84/200\n",
      "25724/25724 [==============================] - 1s 36us/sample - loss: 0.5314 - acc: 0.7413\n",
      "Epoch 85/200\n",
      "25724/25724 [==============================] - 1s 33us/sample - loss: 0.5316 - acc: 0.7419\n",
      "Epoch 86/200\n",
      "25724/25724 [==============================] - 1s 33us/sample - loss: 0.5313 - acc: 0.7411\n",
      "Epoch 87/200\n",
      "25724/25724 [==============================] - 1s 34us/sample - loss: 0.5306 - acc: 0.7422\n",
      "Epoch 88/200\n",
      "25724/25724 [==============================] - 1s 34us/sample - loss: 0.5311 - acc: 0.7416\n",
      "Epoch 89/200\n",
      "25724/25724 [==============================] - 1s 34us/sample - loss: 0.5311 - acc: 0.7414\n",
      "Epoch 90/200\n",
      "25724/25724 [==============================] - 1s 32us/sample - loss: 0.5306 - acc: 0.7411\n",
      "Epoch 91/200\n",
      "25724/25724 [==============================] - 1s 32us/sample - loss: 0.5307 - acc: 0.7418\n",
      "Epoch 92/200\n",
      "25724/25724 [==============================] - 1s 31us/sample - loss: 0.5313 - acc: 0.7421\n",
      "Epoch 93/200\n",
      "25724/25724 [==============================] - 1s 34us/sample - loss: 0.5310 - acc: 0.7418\n",
      "Epoch 94/200\n",
      "25724/25724 [==============================] - 1s 31us/sample - loss: 0.5306 - acc: 0.7419\n",
      "Epoch 95/200\n",
      "25724/25724 [==============================] - 1s 32us/sample - loss: 0.5307 - acc: 0.7419\n",
      "Epoch 96/200\n",
      "25724/25724 [==============================] - 1s 33us/sample - loss: 0.5301 - acc: 0.7420\n",
      "Epoch 97/200\n",
      "25724/25724 [==============================] - 1s 32us/sample - loss: 0.5306 - acc: 0.7420\n",
      "Epoch 98/200\n",
      "25724/25724 [==============================] - 1s 32us/sample - loss: 0.5311 - acc: 0.7415\n",
      "Epoch 99/200\n",
      "25724/25724 [==============================] - 1s 33us/sample - loss: 0.5310 - acc: 0.7412\n",
      "Epoch 100/200\n",
      "25724/25724 [==============================] - 1s 37us/sample - loss: 0.5307 - acc: 0.7421\n",
      "Epoch 101/200\n",
      "25724/25724 [==============================] - 1s 33us/sample - loss: 0.5307 - acc: 0.7418\n",
      "Epoch 102/200\n",
      "25724/25724 [==============================] - 1s 34us/sample - loss: 0.5303 - acc: 0.7422\n",
      "Epoch 103/200\n",
      "25724/25724 [==============================] - 1s 32us/sample - loss: 0.5299 - acc: 0.7419\n",
      "Epoch 104/200\n",
      "25724/25724 [==============================] - 1s 33us/sample - loss: 0.5304 - acc: 0.7420\n",
      "Epoch 105/200\n",
      "25724/25724 [==============================] - 1s 36us/sample - loss: 0.5304 - acc: 0.7414\n",
      "Epoch 106/200\n",
      "25724/25724 [==============================] - 1s 32us/sample - loss: 0.5299 - acc: 0.7416\n",
      "Epoch 107/200\n",
      "25724/25724 [==============================] - 1s 37us/sample - loss: 0.5308 - acc: 0.7416\n",
      "Epoch 108/200\n",
      "25724/25724 [==============================] - 1s 35us/sample - loss: 0.5311 - acc: 0.7416\n",
      "Epoch 109/200\n",
      "25724/25724 [==============================] - 1s 36us/sample - loss: 0.5315 - acc: 0.7412\n",
      "Epoch 110/200\n",
      "25724/25724 [==============================] - 1s 35us/sample - loss: 0.5298 - acc: 0.7418\n",
      "Epoch 111/200\n",
      "25724/25724 [==============================] - 1s 37us/sample - loss: 0.5305 - acc: 0.7416\n",
      "Epoch 112/200\n",
      "25724/25724 [==============================] - 1s 37us/sample - loss: 0.5299 - acc: 0.7413\n",
      "Epoch 113/200\n",
      "25724/25724 [==============================] - 1s 32us/sample - loss: 0.5303 - acc: 0.7420\n",
      "Epoch 114/200\n",
      "25724/25724 [==============================] - 1s 32us/sample - loss: 0.5303 - acc: 0.7422\n",
      "Epoch 115/200\n",
      "25724/25724 [==============================] - 1s 32us/sample - loss: 0.5300 - acc: 0.7418\n",
      "Epoch 116/200\n",
      "25724/25724 [==============================] - 1s 34us/sample - loss: 0.5302 - acc: 0.7416\n",
      "Epoch 117/200\n",
      "25724/25724 [==============================] - 1s 34us/sample - loss: 0.5302 - acc: 0.7422\n",
      "Epoch 118/200\n",
      "25724/25724 [==============================] - 1s 33us/sample - loss: 0.5303 - acc: 0.7418\n",
      "Epoch 119/200\n",
      "25724/25724 [==============================] - 1s 33us/sample - loss: 0.5304 - acc: 0.7415\n",
      "Epoch 120/200\n",
      "25724/25724 [==============================] - 1s 34us/sample - loss: 0.5322 - acc: 0.7418\n",
      "Epoch 121/200\n",
      "25724/25724 [==============================] - 1s 33us/sample - loss: 0.5297 - acc: 0.7424\n",
      "Epoch 122/200\n",
      "25724/25724 [==============================] - 1s 35us/sample - loss: 0.5295 - acc: 0.7421\n",
      "Epoch 123/200\n",
      "25724/25724 [==============================] - 1s 32us/sample - loss: 0.5298 - acc: 0.7420\n",
      "Epoch 124/200\n",
      "25724/25724 [==============================] - 1s 32us/sample - loss: 0.5299 - acc: 0.7420\n",
      "Epoch 125/200\n",
      "25724/25724 [==============================] - 1s 35us/sample - loss: 0.5301 - acc: 0.7413\n",
      "Epoch 126/200\n",
      "25724/25724 [==============================] - 1s 35us/sample - loss: 0.5297 - acc: 0.7419\n",
      "Epoch 127/200\n",
      "25724/25724 [==============================] - 1s 33us/sample - loss: 0.5295 - acc: 0.7413\n",
      "Epoch 128/200\n",
      "25724/25724 [==============================] - 1s 35us/sample - loss: 0.5298 - acc: 0.7415\n",
      "Epoch 129/200\n",
      "25724/25724 [==============================] - 1s 35us/sample - loss: 0.5303 - acc: 0.7418\n",
      "Epoch 130/200\n",
      "25724/25724 [==============================] - 1s 35us/sample - loss: 0.5299 - acc: 0.7420\n",
      "Epoch 131/200\n",
      "25724/25724 [==============================] - 1s 33us/sample - loss: 0.5302 - acc: 0.7422\n",
      "Epoch 132/200\n",
      "25724/25724 [==============================] - 1s 32us/sample - loss: 0.5317 - acc: 0.7409\n",
      "Epoch 133/200\n",
      "25724/25724 [==============================] - 1s 34us/sample - loss: 0.5297 - acc: 0.7416\n",
      "Epoch 134/200\n",
      "25724/25724 [==============================] - 1s 34us/sample - loss: 0.5294 - acc: 0.7423\n",
      "Epoch 135/200\n",
      "25724/25724 [==============================] - 1s 33us/sample - loss: 0.5299 - acc: 0.7422\n",
      "Epoch 136/200\n",
      "25724/25724 [==============================] - 1s 34us/sample - loss: 0.5299 - acc: 0.7416\n",
      "Epoch 137/200\n",
      "25724/25724 [==============================] - 1s 33us/sample - loss: 0.5295 - acc: 0.7414\n",
      "Epoch 138/200\n",
      "25724/25724 [==============================] - 1s 33us/sample - loss: 0.5298 - acc: 0.7418\n",
      "Epoch 139/200\n",
      "25724/25724 [==============================] - 1s 32us/sample - loss: 0.5296 - acc: 0.7422\n",
      "Epoch 140/200\n",
      "25724/25724 [==============================] - 1s 33us/sample - loss: 0.5297 - acc: 0.7418\n",
      "Epoch 141/200\n",
      "25724/25724 [==============================] - 1s 34us/sample - loss: 0.5302 - acc: 0.7416\n",
      "Epoch 142/200\n",
      "25724/25724 [==============================] - 1s 35us/sample - loss: 0.5301 - acc: 0.7421\n",
      "Epoch 143/200\n",
      "25724/25724 [==============================] - 1s 37us/sample - loss: 0.5291 - acc: 0.7422\n",
      "Epoch 144/200\n",
      "25724/25724 [==============================] - 1s 36us/sample - loss: 0.5294 - acc: 0.7420\n",
      "Epoch 145/200\n",
      "25724/25724 [==============================] - 1s 37us/sample - loss: 0.5301 - acc: 0.7421\n",
      "Epoch 146/200\n",
      "25724/25724 [==============================] - 1s 37us/sample - loss: 0.5300 - acc: 0.7416\n",
      "Epoch 147/200\n",
      "25724/25724 [==============================] - 1s 37us/sample - loss: 0.5299 - acc: 0.7414\n",
      "Epoch 148/200\n",
      "25724/25724 [==============================] - 1s 33us/sample - loss: 0.5292 - acc: 0.7420\n",
      "Epoch 149/200\n",
      "25724/25724 [==============================] - 1s 33us/sample - loss: 0.5293 - acc: 0.7421\n",
      "Epoch 150/200\n",
      "25724/25724 [==============================] - 1s 33us/sample - loss: 0.5297 - acc: 0.7419\n",
      "Epoch 151/200\n",
      "25724/25724 [==============================] - 1s 33us/sample - loss: 0.5307 - acc: 0.7421\n",
      "Epoch 152/200\n",
      "25724/25724 [==============================] - 1s 32us/sample - loss: 0.5294 - acc: 0.7418\n",
      "Epoch 153/200\n",
      "25724/25724 [==============================] - 1s 32us/sample - loss: 0.5294 - acc: 0.7421\n",
      "Epoch 154/200\n",
      "25724/25724 [==============================] - 1s 35us/sample - loss: 0.5292 - acc: 0.7422\n",
      "Epoch 155/200\n",
      "25724/25724 [==============================] - 1s 35us/sample - loss: 0.5296 - acc: 0.7415\n",
      "Epoch 156/200\n",
      "25724/25724 [==============================] - 1s 32us/sample - loss: 0.5293 - acc: 0.7421\n",
      "Epoch 157/200\n",
      "25724/25724 [==============================] - 1s 33us/sample - loss: 0.5297 - acc: 0.7419\n",
      "Epoch 158/200\n",
      "25724/25724 [==============================] - 1s 33us/sample - loss: 0.5308 - acc: 0.7417\n",
      "Epoch 159/200\n",
      "25724/25724 [==============================] - 1s 35us/sample - loss: 0.5299 - acc: 0.7418\n",
      "Epoch 160/200\n",
      "25724/25724 [==============================] - 1s 32us/sample - loss: 0.5295 - acc: 0.7425\n",
      "Epoch 161/200\n",
      "25724/25724 [==============================] - 1s 33us/sample - loss: 0.5290 - acc: 0.7416\n",
      "Epoch 162/200\n",
      "25724/25724 [==============================] - 1s 32us/sample - loss: 0.5293 - acc: 0.7423\n",
      "Epoch 163/200\n",
      "25724/25724 [==============================] - 1s 32us/sample - loss: 0.5294 - acc: 0.7420\n",
      "Epoch 164/200\n",
      "25724/25724 [==============================] - 1s 32us/sample - loss: 0.5299 - acc: 0.7427\n",
      "Epoch 165/200\n",
      "25724/25724 [==============================] - 1s 32us/sample - loss: 0.5306 - acc: 0.7421\n",
      "Epoch 166/200\n",
      "25724/25724 [==============================] - 1s 33us/sample - loss: 0.5291 - acc: 0.7425\n",
      "Epoch 167/200\n",
      "25724/25724 [==============================] - 1s 33us/sample - loss: 0.5293 - acc: 0.7421\n",
      "Epoch 168/200\n",
      "25724/25724 [==============================] - 1s 31us/sample - loss: 0.5292 - acc: 0.7423\n",
      "Epoch 169/200\n",
      "25724/25724 [==============================] - 1s 34us/sample - loss: 0.5292 - acc: 0.7420\n",
      "Epoch 170/200\n",
      "25724/25724 [==============================] - 1s 32us/sample - loss: 0.5292 - acc: 0.7423\n",
      "Epoch 171/200\n",
      "25724/25724 [==============================] - 1s 32us/sample - loss: 0.5303 - acc: 0.7420\n",
      "Epoch 172/200\n",
      "25724/25724 [==============================] - 1s 34us/sample - loss: 0.5302 - acc: 0.7421\n",
      "Epoch 173/200\n",
      "25724/25724 [==============================] - 1s 34us/sample - loss: 0.5288 - acc: 0.7420\n",
      "Epoch 174/200\n",
      "25724/25724 [==============================] - 1s 33us/sample - loss: 0.5289 - acc: 0.7427\n",
      "Epoch 175/200\n",
      "25724/25724 [==============================] - 1s 32us/sample - loss: 0.5295 - acc: 0.7420\n",
      "Epoch 176/200\n",
      "25724/25724 [==============================] - 1s 33us/sample - loss: 0.5308 - acc: 0.7418\n",
      "Epoch 177/200\n",
      "25724/25724 [==============================] - 1s 38us/sample - loss: 0.5312 - acc: 0.7419\n",
      "Epoch 178/200\n",
      "25724/25724 [==============================] - 1s 34us/sample - loss: 0.5289 - acc: 0.7422\n",
      "Epoch 179/200\n",
      "25724/25724 [==============================] - 1s 35us/sample - loss: 0.5287 - acc: 0.7423\n",
      "Epoch 180/200\n",
      "25724/25724 [==============================] - 1s 34us/sample - loss: 0.5287 - acc: 0.7420\n",
      "Epoch 181/200\n",
      "25724/25724 [==============================] - 1s 37us/sample - loss: 0.5296 - acc: 0.7415\n",
      "Epoch 182/200\n",
      "25724/25724 [==============================] - 1s 33us/sample - loss: 0.5292 - acc: 0.7415\n",
      "Epoch 183/200\n",
      "25724/25724 [==============================] - 1s 32us/sample - loss: 0.5287 - acc: 0.7418\n",
      "Epoch 184/200\n",
      "25724/25724 [==============================] - 1s 32us/sample - loss: 0.5293 - acc: 0.7420\n",
      "Epoch 185/200\n",
      "25724/25724 [==============================] - 1s 34us/sample - loss: 0.5288 - acc: 0.7422\n",
      "Epoch 186/200\n",
      "25724/25724 [==============================] - 1s 34us/sample - loss: 0.5293 - acc: 0.7412\n",
      "Epoch 187/200\n",
      "25724/25724 [==============================] - 1s 32us/sample - loss: 0.5286 - acc: 0.7425\n",
      "Epoch 188/200\n",
      "25724/25724 [==============================] - 1s 33us/sample - loss: 0.5291 - acc: 0.7423\n",
      "Epoch 189/200\n",
      "25724/25724 [==============================] - 1s 35us/sample - loss: 0.5312 - acc: 0.7414\n",
      "Epoch 190/200\n",
      "25724/25724 [==============================] - 1s 33us/sample - loss: 0.5294 - acc: 0.7419\n",
      "Epoch 191/200\n",
      "25724/25724 [==============================] - 1s 32us/sample - loss: 0.5291 - acc: 0.7423\n",
      "Epoch 192/200\n",
      "25724/25724 [==============================] - 1s 33us/sample - loss: 0.5287 - acc: 0.7417\n",
      "Epoch 193/200\n",
      "25724/25724 [==============================] - 1s 33us/sample - loss: 0.5290 - acc: 0.7423\n",
      "Epoch 194/200\n",
      "25724/25724 [==============================] - 1s 32us/sample - loss: 0.5291 - acc: 0.7420\n",
      "Epoch 195/200\n",
      "25724/25724 [==============================] - 1s 34us/sample - loss: 0.5286 - acc: 0.7417\n",
      "Epoch 196/200\n",
      "25724/25724 [==============================] - 1s 32us/sample - loss: 0.5290 - acc: 0.7421\n",
      "Epoch 197/200\n",
      "25724/25724 [==============================] - 1s 34us/sample - loss: 0.5294 - acc: 0.7415\n",
      "Epoch 198/200\n",
      "25724/25724 [==============================] - 1s 32us/sample - loss: 0.5291 - acc: 0.7415\n",
      "Epoch 199/200\n",
      "25724/25724 [==============================] - 1s 33us/sample - loss: 0.5290 - acc: 0.7427\n",
      "Epoch 200/200\n",
      "25724/25724 [==============================] - 1s 33us/sample - loss: 0.5290 - acc: 0.7421\n"
     ]
    }
   ],
   "source": [
    "# Train the model\n",
    "model = nn.fit(X_train_scaled, y_train, epochs = 200)"
   ]
  },
  {
   "cell_type": "code",
   "execution_count": 18,
   "metadata": {},
   "outputs": [
    {
     "name": "stdout",
     "output_type": "stream",
     "text": [
      "8575/8575 - 0s - loss: 0.6216 - acc: 0.7287\n",
      "Loss: 0.6216265717053205, Accuracy: 0.7287463545799255\n"
     ]
    }
   ],
   "source": [
    "# Evaluate the model using the test data\n",
    "model_loss, model_accuracy = nn.evaluate(X_test_scaled,y_test,verbose=2)\n",
    "print(f\"Loss: {model_loss}, Accuracy: {model_accuracy}\")"
   ]
  },
  {
   "cell_type": "code",
   "execution_count": 19,
   "metadata": {},
   "outputs": [],
   "source": [
    "# Export our model to HDF5 file\n",
    "nn.save('model6.h5')"
   ]
  }
 ],
 "metadata": {
  "interpreter": {
   "hash": "79264824c40396a64d10485446bbc394f17a77ecfe3bed33e1bfdf8fe75a4647"
  },
  "kernelspec": {
   "display_name": "Python 3.6.10 64-bit ('PythonData': conda)",
   "name": "python3"
  },
  "language_info": {
   "codemirror_mode": {
    "name": "ipython",
    "version": 3
   },
   "file_extension": ".py",
   "mimetype": "text/x-python",
   "name": "python",
   "nbconvert_exporter": "python",
   "pygments_lexer": "ipython3",
   "version": "3.6.10"
  }
 },
 "nbformat": 4,
 "nbformat_minor": 4
}
