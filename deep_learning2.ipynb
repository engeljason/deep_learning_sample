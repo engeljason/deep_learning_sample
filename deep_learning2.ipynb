{
 "cells": [
  {
   "cell_type": "markdown",
   "metadata": {},
   "source": [
    "## Preprocessing"
   ]
  },
  {
   "cell_type": "code",
   "execution_count": 1,
   "metadata": {},
   "outputs": [
    {
     "name": "stderr",
     "output_type": "stream",
     "text": [
      "C:\\Users\\Jason\\anaconda3\\envs\\PythonData\\lib\\site-packages\\tensorflow\\python\\framework\\dtypes.py:516: FutureWarning: Passing (type, 1) or '1type' as a synonym of type is deprecated; in a future version of numpy, it will be understood as (type, (1,)) / '(1,)type'.\n",
      "  _np_qint8 = np.dtype([(\"qint8\", np.int8, 1)])\n",
      "C:\\Users\\Jason\\anaconda3\\envs\\PythonData\\lib\\site-packages\\tensorflow\\python\\framework\\dtypes.py:517: FutureWarning: Passing (type, 1) or '1type' as a synonym of type is deprecated; in a future version of numpy, it will be understood as (type, (1,)) / '(1,)type'.\n",
      "  _np_quint8 = np.dtype([(\"quint8\", np.uint8, 1)])\n",
      "C:\\Users\\Jason\\anaconda3\\envs\\PythonData\\lib\\site-packages\\tensorflow\\python\\framework\\dtypes.py:518: FutureWarning: Passing (type, 1) or '1type' as a synonym of type is deprecated; in a future version of numpy, it will be understood as (type, (1,)) / '(1,)type'.\n",
      "  _np_qint16 = np.dtype([(\"qint16\", np.int16, 1)])\n",
      "C:\\Users\\Jason\\anaconda3\\envs\\PythonData\\lib\\site-packages\\tensorflow\\python\\framework\\dtypes.py:519: FutureWarning: Passing (type, 1) or '1type' as a synonym of type is deprecated; in a future version of numpy, it will be understood as (type, (1,)) / '(1,)type'.\n",
      "  _np_quint16 = np.dtype([(\"quint16\", np.uint16, 1)])\n",
      "C:\\Users\\Jason\\anaconda3\\envs\\PythonData\\lib\\site-packages\\tensorflow\\python\\framework\\dtypes.py:520: FutureWarning: Passing (type, 1) or '1type' as a synonym of type is deprecated; in a future version of numpy, it will be understood as (type, (1,)) / '(1,)type'.\n",
      "  _np_qint32 = np.dtype([(\"qint32\", np.int32, 1)])\n",
      "C:\\Users\\Jason\\anaconda3\\envs\\PythonData\\lib\\site-packages\\tensorflow\\python\\framework\\dtypes.py:525: FutureWarning: Passing (type, 1) or '1type' as a synonym of type is deprecated; in a future version of numpy, it will be understood as (type, (1,)) / '(1,)type'.\n",
      "  np_resource = np.dtype([(\"resource\", np.ubyte, 1)])\n",
      "C:\\Users\\Jason\\anaconda3\\envs\\PythonData\\lib\\site-packages\\tensorboard\\compat\\tensorflow_stub\\dtypes.py:541: FutureWarning: Passing (type, 1) or '1type' as a synonym of type is deprecated; in a future version of numpy, it will be understood as (type, (1,)) / '(1,)type'.\n",
      "  _np_qint8 = np.dtype([(\"qint8\", np.int8, 1)])\n",
      "C:\\Users\\Jason\\anaconda3\\envs\\PythonData\\lib\\site-packages\\tensorboard\\compat\\tensorflow_stub\\dtypes.py:542: FutureWarning: Passing (type, 1) or '1type' as a synonym of type is deprecated; in a future version of numpy, it will be understood as (type, (1,)) / '(1,)type'.\n",
      "  _np_quint8 = np.dtype([(\"quint8\", np.uint8, 1)])\n",
      "C:\\Users\\Jason\\anaconda3\\envs\\PythonData\\lib\\site-packages\\tensorboard\\compat\\tensorflow_stub\\dtypes.py:543: FutureWarning: Passing (type, 1) or '1type' as a synonym of type is deprecated; in a future version of numpy, it will be understood as (type, (1,)) / '(1,)type'.\n",
      "  _np_qint16 = np.dtype([(\"qint16\", np.int16, 1)])\n",
      "C:\\Users\\Jason\\anaconda3\\envs\\PythonData\\lib\\site-packages\\tensorboard\\compat\\tensorflow_stub\\dtypes.py:544: FutureWarning: Passing (type, 1) or '1type' as a synonym of type is deprecated; in a future version of numpy, it will be understood as (type, (1,)) / '(1,)type'.\n",
      "  _np_quint16 = np.dtype([(\"quint16\", np.uint16, 1)])\n",
      "C:\\Users\\Jason\\anaconda3\\envs\\PythonData\\lib\\site-packages\\tensorboard\\compat\\tensorflow_stub\\dtypes.py:545: FutureWarning: Passing (type, 1) or '1type' as a synonym of type is deprecated; in a future version of numpy, it will be understood as (type, (1,)) / '(1,)type'.\n",
      "  _np_qint32 = np.dtype([(\"qint32\", np.int32, 1)])\n",
      "C:\\Users\\Jason\\anaconda3\\envs\\PythonData\\lib\\site-packages\\tensorboard\\compat\\tensorflow_stub\\dtypes.py:550: FutureWarning: Passing (type, 1) or '1type' as a synonym of type is deprecated; in a future version of numpy, it will be understood as (type, (1,)) / '(1,)type'.\n",
      "  np_resource = np.dtype([(\"resource\", np.ubyte, 1)])\n"
     ]
    }
   ],
   "source": [
    "# Import our dependencies\n",
    "from sklearn.model_selection import train_test_split\n",
    "from sklearn.preprocessing import StandardScaler\n",
    "import pandas as pd\n",
    "import tensorflow as tf"
   ]
  },
  {
   "cell_type": "code",
   "execution_count": 2,
   "metadata": {},
   "outputs": [
    {
     "data": {
      "text/html": [
       "<div>\n",
       "<style scoped>\n",
       "    .dataframe tbody tr th:only-of-type {\n",
       "        vertical-align: middle;\n",
       "    }\n",
       "\n",
       "    .dataframe tbody tr th {\n",
       "        vertical-align: top;\n",
       "    }\n",
       "\n",
       "    .dataframe thead th {\n",
       "        text-align: right;\n",
       "    }\n",
       "</style>\n",
       "<table border=\"1\" class=\"dataframe\">\n",
       "  <thead>\n",
       "    <tr style=\"text-align: right;\">\n",
       "      <th></th>\n",
       "      <th>NAME</th>\n",
       "      <th>APPLICATION_TYPE</th>\n",
       "      <th>AFFILIATION</th>\n",
       "      <th>CLASSIFICATION</th>\n",
       "      <th>USE_CASE</th>\n",
       "      <th>ORGANIZATION</th>\n",
       "      <th>STATUS</th>\n",
       "      <th>INCOME_AMT</th>\n",
       "      <th>SPECIAL_CONSIDERATIONS</th>\n",
       "      <th>ASK_AMT</th>\n",
       "      <th>IS_SUCCESSFUL</th>\n",
       "    </tr>\n",
       "    <tr>\n",
       "      <th>EIN</th>\n",
       "      <th></th>\n",
       "      <th></th>\n",
       "      <th></th>\n",
       "      <th></th>\n",
       "      <th></th>\n",
       "      <th></th>\n",
       "      <th></th>\n",
       "      <th></th>\n",
       "      <th></th>\n",
       "      <th></th>\n",
       "      <th></th>\n",
       "    </tr>\n",
       "  </thead>\n",
       "  <tbody>\n",
       "    <tr>\n",
       "      <th>10520599</th>\n",
       "      <td>BLUE KNIGHTS MOTORCYCLE CLUB</td>\n",
       "      <td>T10</td>\n",
       "      <td>Independent</td>\n",
       "      <td>C1000</td>\n",
       "      <td>ProductDev</td>\n",
       "      <td>Association</td>\n",
       "      <td>1</td>\n",
       "      <td>0</td>\n",
       "      <td>N</td>\n",
       "      <td>5000</td>\n",
       "      <td>1</td>\n",
       "    </tr>\n",
       "    <tr>\n",
       "      <th>10531628</th>\n",
       "      <td>AMERICAN CHESAPEAKE CLUB CHARITABLE TR</td>\n",
       "      <td>T3</td>\n",
       "      <td>Independent</td>\n",
       "      <td>C2000</td>\n",
       "      <td>Preservation</td>\n",
       "      <td>Co-operative</td>\n",
       "      <td>1</td>\n",
       "      <td>1-9999</td>\n",
       "      <td>N</td>\n",
       "      <td>108590</td>\n",
       "      <td>1</td>\n",
       "    </tr>\n",
       "  </tbody>\n",
       "</table>\n",
       "</div>"
      ],
      "text/plain": [
       "                                            NAME APPLICATION_TYPE  \\\n",
       "EIN                                                                 \n",
       "10520599            BLUE KNIGHTS MOTORCYCLE CLUB              T10   \n",
       "10531628  AMERICAN CHESAPEAKE CLUB CHARITABLE TR               T3   \n",
       "\n",
       "          AFFILIATION CLASSIFICATION      USE_CASE  ORGANIZATION  STATUS  \\\n",
       "EIN                                                                        \n",
       "10520599  Independent          C1000    ProductDev   Association       1   \n",
       "10531628  Independent          C2000  Preservation  Co-operative       1   \n",
       "\n",
       "         INCOME_AMT SPECIAL_CONSIDERATIONS  ASK_AMT  IS_SUCCESSFUL  \n",
       "EIN                                                                 \n",
       "10520599          0                      N     5000              1  \n",
       "10531628     1-9999                      N   108590              1  "
      ]
     },
     "execution_count": 2,
     "metadata": {},
     "output_type": "execute_result"
    }
   ],
   "source": [
    "#  Import and read the charity_data.csv.\n",
    "import pandas as pd \n",
    "df = pd.read_csv(\"../Resources/charity_data.csv\").set_index('EIN')\n",
    "df.head(2)"
   ]
  },
  {
   "cell_type": "code",
   "execution_count": 3,
   "metadata": {},
   "outputs": [
    {
     "data": {
      "text/plain": [
       "True     34189\n",
       "False      110\n",
       "dtype: int64"
      ]
     },
     "execution_count": 3,
     "metadata": {},
     "output_type": "execute_result"
    }
   ],
   "source": [
    "df[['CLASSIFICATION','AFFILIATION']].duplicated().value_counts()"
   ]
  },
  {
   "cell_type": "code",
   "execution_count": 4,
   "metadata": {},
   "outputs": [
    {
     "data": {
      "text/plain": [
       "True     34197\n",
       "False      102\n",
       "dtype: int64"
      ]
     },
     "execution_count": 4,
     "metadata": {},
     "output_type": "execute_result"
    }
   ],
   "source": [
    "df[['CLASSIFICATION','USE_CASE']].duplicated().value_counts()"
   ]
  },
  {
   "cell_type": "code",
   "execution_count": 5,
   "metadata": {},
   "outputs": [
    {
     "data": {
      "text/plain": [
       "True     34173\n",
       "False      126\n",
       "dtype: int64"
      ]
     },
     "execution_count": 5,
     "metadata": {},
     "output_type": "execute_result"
    }
   ],
   "source": [
    "df[['CLASSIFICATION','ORGANIZATION']].duplicated().value_counts()"
   ]
  },
  {
   "cell_type": "code",
   "execution_count": 6,
   "metadata": {},
   "outputs": [
    {
     "data": {
      "text/plain": [
       "True     34225\n",
       "False       74\n",
       "dtype: int64"
      ]
     },
     "execution_count": 6,
     "metadata": {},
     "output_type": "execute_result"
    }
   ],
   "source": [
    "df[['CLASSIFICATION','STATUS']].duplicated().value_counts()"
   ]
  },
  {
   "cell_type": "code",
   "execution_count": 7,
   "metadata": {},
   "outputs": [
    {
     "data": {
      "text/plain": [
       "True     34081\n",
       "False      218\n",
       "dtype: int64"
      ]
     },
     "execution_count": 7,
     "metadata": {},
     "output_type": "execute_result"
    }
   ],
   "source": [
    "df[['CLASSIFICATION','INCOME_AMT']].duplicated().value_counts()"
   ]
  },
  {
   "cell_type": "code",
   "execution_count": 8,
   "metadata": {},
   "outputs": [
    {
     "data": {
      "text/plain": [
       "True     34223\n",
       "False       76\n",
       "dtype: int64"
      ]
     },
     "execution_count": 8,
     "metadata": {},
     "output_type": "execute_result"
    }
   ],
   "source": [
    "df[['CLASSIFICATION','SPECIAL_CONSIDERATIONS']].duplicated().value_counts()"
   ]
  },
  {
   "cell_type": "code",
   "execution_count": 9,
   "metadata": {},
   "outputs": [],
   "source": [
    "drop_columns = ['NAME', 'AFFILIATION', 'USE_CASE', 'ORGANIZATION', 'STATUS', 'INCOME_AMT', 'SPECIAL_CONSIDERATIONS']\n"
   ]
  },
  {
   "cell_type": "code",
   "execution_count": 10,
   "metadata": {},
   "outputs": [],
   "source": [
    "# Drop the non-beneficial ID columns, 'EIN' and 'NAME'.\n",
    "df.drop(columns=drop_columns, inplace=True)"
   ]
  },
  {
   "cell_type": "code",
   "execution_count": 11,
   "metadata": {},
   "outputs": [
    {
     "data": {
      "text/plain": [
       "APPLICATION_TYPE      17\n",
       "CLASSIFICATION        71\n",
       "ASK_AMT             8747\n",
       "IS_SUCCESSFUL          2\n",
       "dtype: int64"
      ]
     },
     "execution_count": 11,
     "metadata": {},
     "output_type": "execute_result"
    }
   ],
   "source": [
    "# Determine the number of unique values in each column.\n",
    "df.nunique()"
   ]
  },
  {
   "cell_type": "code",
   "execution_count": 12,
   "metadata": {},
   "outputs": [
    {
     "data": {
      "text/plain": [
       "T3     27037\n",
       "T4      1542\n",
       "T6      1216\n",
       "T5      1173\n",
       "T19     1065\n",
       "T8       737\n",
       "T7       725\n",
       "T10      528\n",
       "T9       156\n",
       "T13       66\n",
       "T12       27\n",
       "T2        16\n",
       "T25        3\n",
       "T14        3\n",
       "T29        2\n",
       "T15        2\n",
       "T17        1\n",
       "Name: APPLICATION_TYPE, dtype: int64"
      ]
     },
     "execution_count": 12,
     "metadata": {},
     "output_type": "execute_result"
    }
   ],
   "source": [
    "# Look at APPLICATION_TYPE value counts for binning\n",
    "vc = df['APPLICATION_TYPE'].value_counts()\n",
    "vc"
   ]
  },
  {
   "cell_type": "code",
   "execution_count": 13,
   "metadata": {},
   "outputs": [
    {
     "data": {
      "text/plain": [
       "0      T8\n",
       "1      T7\n",
       "2     T10\n",
       "3      T9\n",
       "4     T13\n",
       "5     T12\n",
       "6      T2\n",
       "7     T25\n",
       "8     T14\n",
       "9     T29\n",
       "10    T15\n",
       "11    T17\n",
       "Name: index, dtype: object"
      ]
     },
     "execution_count": 13,
     "metadata": {},
     "output_type": "execute_result"
    }
   ],
   "source": [
    "# Choose a cutoff value and create a list of application types to be replaced\n",
    "app_repl = vc.loc[lambda x: x<= vc[5]].reset_index()['index']\n",
    "app_repl"
   ]
  },
  {
   "cell_type": "code",
   "execution_count": 14,
   "metadata": {},
   "outputs": [
    {
     "data": {
      "text/plain": [
       "T3       27037\n",
       "Other     2266\n",
       "T4        1542\n",
       "T6        1216\n",
       "T5        1173\n",
       "T19       1065\n",
       "Name: APPLICATION_TYPE, dtype: int64"
      ]
     },
     "execution_count": 14,
     "metadata": {},
     "output_type": "execute_result"
    }
   ],
   "source": [
    "# Replace in dataframe\n",
    "for val in app_repl:\n",
    "    df['APPLICATION_TYPE'] = df['APPLICATION_TYPE'].replace(val,\"Other\")\n",
    "\n",
    "# Check to make sure binning was successful\n",
    "df['APPLICATION_TYPE'].value_counts()"
   ]
  },
  {
   "cell_type": "code",
   "execution_count": 15,
   "metadata": {},
   "outputs": [
    {
     "data": {
      "text/plain": [
       "C1000    17326\n",
       "C2000     6074\n",
       "C1200     4837\n",
       "C3000     1918\n",
       "C2100     1883\n",
       "C7000      777\n",
       "C1700      287\n",
       "C4000      194\n",
       "C5000      116\n",
       "C1270      114\n",
       "C2700      104\n",
       "Name: CLASSIFICATION, dtype: int64"
      ]
     },
     "execution_count": 15,
     "metadata": {},
     "output_type": "execute_result"
    }
   ],
   "source": [
    "# Look at CLASSIFICATION value counts for binning\n",
    "vc = df['CLASSIFICATION'].value_counts()\n",
    "vc[0:11]"
   ]
  },
  {
   "cell_type": "code",
   "execution_count": 16,
   "metadata": {},
   "outputs": [
    {
     "data": {
      "text/plain": [
       "0     C1700\n",
       "1     C4000\n",
       "2     C5000\n",
       "3     C1270\n",
       "4     C2700\n",
       "5     C2800\n",
       "6     C7100\n",
       "7     C1300\n",
       "8     C1280\n",
       "9     C1230\n",
       "10    C1400\n",
       "11    C7200\n",
       "12    C2300\n",
       "13    C1240\n",
       "14    C8000\n",
       "15    C7120\n",
       "16    C1500\n",
       "17    C1800\n",
       "18    C6000\n",
       "19    C1250\n",
       "20    C8200\n",
       "21    C1238\n",
       "22    C1278\n",
       "23    C1235\n",
       "24    C1237\n",
       "25    C7210\n",
       "26    C1720\n",
       "27    C2400\n",
       "28    C4100\n",
       "29    C1600\n",
       "      ...  \n",
       "35    C1234\n",
       "36    C1256\n",
       "37    C1246\n",
       "38    C3200\n",
       "39    C2170\n",
       "40    C4200\n",
       "41    C1900\n",
       "42    C8210\n",
       "43    C1248\n",
       "44    C2150\n",
       "45    C2561\n",
       "46    C2600\n",
       "47    C1245\n",
       "48    C1580\n",
       "49    C2500\n",
       "50    C2570\n",
       "51    C1570\n",
       "52    C1236\n",
       "53    C2190\n",
       "54    C2380\n",
       "55    C5200\n",
       "56    C1728\n",
       "57    C1370\n",
       "58    C4120\n",
       "59    C3700\n",
       "60    C6100\n",
       "61    C1283\n",
       "62    C1820\n",
       "63    C4500\n",
       "64    C1732\n",
       "Name: index, Length: 65, dtype: object"
      ]
     },
     "execution_count": 16,
     "metadata": {},
     "output_type": "execute_result"
    }
   ],
   "source": [
    "# You may find it helpful to look at CLASSIFICATION value counts >1\n",
    "cls_repl = vc.loc[lambda x: x< vc[5]].reset_index()['index']\n",
    "cls_repl"
   ]
  },
  {
   "cell_type": "code",
   "execution_count": 17,
   "metadata": {},
   "outputs": [
    {
     "data": {
      "text/plain": [
       "C1000    17326\n",
       "C2000     6074\n",
       "C1200     4837\n",
       "C3000     1918\n",
       "C2100     1883\n",
       "Other     1484\n",
       "C7000      777\n",
       "Name: CLASSIFICATION, dtype: int64"
      ]
     },
     "execution_count": 17,
     "metadata": {},
     "output_type": "execute_result"
    }
   ],
   "source": [
    "# Replace in dataframe\n",
    "for val in cls_repl:\n",
    "    df['CLASSIFICATION'] = df['CLASSIFICATION'].replace(val,\"Other\")\n",
    "\n",
    "# Check to make sure binning was successful\n",
    "df['CLASSIFICATION'].value_counts()"
   ]
  },
  {
   "cell_type": "code",
   "execution_count": 18,
   "metadata": {},
   "outputs": [
    {
     "data": {
      "text/html": [
       "<div>\n",
       "<style scoped>\n",
       "    .dataframe tbody tr th:only-of-type {\n",
       "        vertical-align: middle;\n",
       "    }\n",
       "\n",
       "    .dataframe tbody tr th {\n",
       "        vertical-align: top;\n",
       "    }\n",
       "\n",
       "    .dataframe thead th {\n",
       "        text-align: right;\n",
       "    }\n",
       "</style>\n",
       "<table border=\"1\" class=\"dataframe\">\n",
       "  <thead>\n",
       "    <tr style=\"text-align: right;\">\n",
       "      <th></th>\n",
       "      <th>APPLICATION_TYPE</th>\n",
       "      <th>CLASSIFICATION</th>\n",
       "      <th>ASK_AMT</th>\n",
       "      <th>IS_SUCCESSFUL</th>\n",
       "    </tr>\n",
       "    <tr>\n",
       "      <th>EIN</th>\n",
       "      <th></th>\n",
       "      <th></th>\n",
       "      <th></th>\n",
       "      <th></th>\n",
       "    </tr>\n",
       "  </thead>\n",
       "  <tbody>\n",
       "    <tr>\n",
       "      <th>10520599</th>\n",
       "      <td>Other</td>\n",
       "      <td>C1000</td>\n",
       "      <td>5000</td>\n",
       "      <td>1</td>\n",
       "    </tr>\n",
       "    <tr>\n",
       "      <th>10531628</th>\n",
       "      <td>T3</td>\n",
       "      <td>C2000</td>\n",
       "      <td>108590</td>\n",
       "      <td>1</td>\n",
       "    </tr>\n",
       "  </tbody>\n",
       "</table>\n",
       "</div>"
      ],
      "text/plain": [
       "         APPLICATION_TYPE CLASSIFICATION  ASK_AMT  IS_SUCCESSFUL\n",
       "EIN                                                             \n",
       "10520599            Other          C1000     5000              1\n",
       "10531628               T3          C2000   108590              1"
      ]
     },
     "execution_count": 18,
     "metadata": {},
     "output_type": "execute_result"
    }
   ],
   "source": [
    "df.head(2)"
   ]
  },
  {
   "cell_type": "code",
   "execution_count": 19,
   "metadata": {},
   "outputs": [
    {
     "name": "stdout",
     "output_type": "stream",
     "text": [
      "(34299, 15)\n"
     ]
    },
    {
     "data": {
      "text/html": [
       "<div>\n",
       "<style scoped>\n",
       "    .dataframe tbody tr th:only-of-type {\n",
       "        vertical-align: middle;\n",
       "    }\n",
       "\n",
       "    .dataframe tbody tr th {\n",
       "        vertical-align: top;\n",
       "    }\n",
       "\n",
       "    .dataframe thead th {\n",
       "        text-align: right;\n",
       "    }\n",
       "</style>\n",
       "<table border=\"1\" class=\"dataframe\">\n",
       "  <thead>\n",
       "    <tr style=\"text-align: right;\">\n",
       "      <th></th>\n",
       "      <th>ASK_AMT</th>\n",
       "      <th>IS_SUCCESSFUL</th>\n",
       "      <th>APPLICATION_TYPE_Other</th>\n",
       "      <th>APPLICATION_TYPE_T19</th>\n",
       "      <th>APPLICATION_TYPE_T3</th>\n",
       "      <th>APPLICATION_TYPE_T4</th>\n",
       "      <th>APPLICATION_TYPE_T5</th>\n",
       "      <th>APPLICATION_TYPE_T6</th>\n",
       "      <th>CLASSIFICATION_C1000</th>\n",
       "      <th>CLASSIFICATION_C1200</th>\n",
       "      <th>CLASSIFICATION_C2000</th>\n",
       "      <th>CLASSIFICATION_C2100</th>\n",
       "      <th>CLASSIFICATION_C3000</th>\n",
       "      <th>CLASSIFICATION_C7000</th>\n",
       "      <th>CLASSIFICATION_Other</th>\n",
       "    </tr>\n",
       "    <tr>\n",
       "      <th>EIN</th>\n",
       "      <th></th>\n",
       "      <th></th>\n",
       "      <th></th>\n",
       "      <th></th>\n",
       "      <th></th>\n",
       "      <th></th>\n",
       "      <th></th>\n",
       "      <th></th>\n",
       "      <th></th>\n",
       "      <th></th>\n",
       "      <th></th>\n",
       "      <th></th>\n",
       "      <th></th>\n",
       "      <th></th>\n",
       "      <th></th>\n",
       "    </tr>\n",
       "  </thead>\n",
       "  <tbody>\n",
       "    <tr>\n",
       "      <th>10520599</th>\n",
       "      <td>5000</td>\n",
       "      <td>1</td>\n",
       "      <td>1</td>\n",
       "      <td>0</td>\n",
       "      <td>0</td>\n",
       "      <td>0</td>\n",
       "      <td>0</td>\n",
       "      <td>0</td>\n",
       "      <td>1</td>\n",
       "      <td>0</td>\n",
       "      <td>0</td>\n",
       "      <td>0</td>\n",
       "      <td>0</td>\n",
       "      <td>0</td>\n",
       "      <td>0</td>\n",
       "    </tr>\n",
       "    <tr>\n",
       "      <th>10531628</th>\n",
       "      <td>108590</td>\n",
       "      <td>1</td>\n",
       "      <td>0</td>\n",
       "      <td>0</td>\n",
       "      <td>1</td>\n",
       "      <td>0</td>\n",
       "      <td>0</td>\n",
       "      <td>0</td>\n",
       "      <td>0</td>\n",
       "      <td>0</td>\n",
       "      <td>1</td>\n",
       "      <td>0</td>\n",
       "      <td>0</td>\n",
       "      <td>0</td>\n",
       "      <td>0</td>\n",
       "    </tr>\n",
       "  </tbody>\n",
       "</table>\n",
       "</div>"
      ],
      "text/plain": [
       "          ASK_AMT  IS_SUCCESSFUL  APPLICATION_TYPE_Other  \\\n",
       "EIN                                                        \n",
       "10520599     5000              1                       1   \n",
       "10531628   108590              1                       0   \n",
       "\n",
       "          APPLICATION_TYPE_T19  APPLICATION_TYPE_T3  APPLICATION_TYPE_T4  \\\n",
       "EIN                                                                        \n",
       "10520599                     0                    0                    0   \n",
       "10531628                     0                    1                    0   \n",
       "\n",
       "          APPLICATION_TYPE_T5  APPLICATION_TYPE_T6  CLASSIFICATION_C1000  \\\n",
       "EIN                                                                        \n",
       "10520599                    0                    0                     1   \n",
       "10531628                    0                    0                     0   \n",
       "\n",
       "          CLASSIFICATION_C1200  CLASSIFICATION_C2000  CLASSIFICATION_C2100  \\\n",
       "EIN                                                                          \n",
       "10520599                     0                     0                     0   \n",
       "10531628                     0                     1                     0   \n",
       "\n",
       "          CLASSIFICATION_C3000  CLASSIFICATION_C7000  CLASSIFICATION_Other  \n",
       "EIN                                                                         \n",
       "10520599                     0                     0                     0  \n",
       "10531628                     0                     0                     0  "
      ]
     },
     "execution_count": 19,
     "metadata": {},
     "output_type": "execute_result"
    }
   ],
   "source": [
    "# Convert categorical data to numeric with `pd.get_dummies`\n",
    "dums = pd.get_dummies(df)\n",
    "print(dums.shape)\n",
    "dums.head(2)"
   ]
  },
  {
   "cell_type": "code",
   "execution_count": 20,
   "metadata": {},
   "outputs": [],
   "source": [
    "# Split our preprocessed data into our features and target arrays\n",
    "y = dums['IS_SUCCESSFUL']\n",
    "X = dums.drop(columns = 'IS_SUCCESSFUL')\n",
    "\n",
    "# Split the preprocessed data into a training and testing dataset\n",
    "X_train, X_test, y_train, y_test = train_test_split(X, y, random_state=12345)"
   ]
  },
  {
   "cell_type": "code",
   "execution_count": 21,
   "metadata": {},
   "outputs": [],
   "source": [
    "scale_cols = ['ASK_AMT']\n",
    "\n",
    "from sklearn.compose import ColumnTransformer\n",
    "from sklearn.preprocessing import StandardScaler\n",
    "\n",
    "ct = ColumnTransformer([\n",
    "        ('ct', StandardScaler(), scale_cols)\n",
    "     ], remainder='passthrough')\n",
    "\n",
    "X_train_scaled = ct.fit_transform(X_train)\n",
    "X_test_scaled = ct.fit_transform(X_test)"
   ]
  },
  {
   "cell_type": "markdown",
   "metadata": {},
   "source": [
    "## Compile, Train and Evaluate the Model"
   ]
  },
  {
   "cell_type": "code",
   "execution_count": 22,
   "metadata": {},
   "outputs": [],
   "source": [
    "# Define the model - deep neural net, i.e., the number of input features and hidden nodes for each layer.\n",
    "layers = [\n",
    "    {'units' : 100, 'activation': 'relu', 'input_dim': X_train_scaled.shape[1]},\n",
    "    {'units' : 50, 'activation': 'relu'},\n",
    "    {'units' : 50, 'activation': 'relu'},\n",
    "    {'units' : 50, 'activation': 'relu'},\n",
    "    {'units' : 1, 'activation': 'sigmoid'}\n",
    "]"
   ]
  },
  {
   "cell_type": "code",
   "execution_count": 23,
   "metadata": {},
   "outputs": [
    {
     "name": "stdout",
     "output_type": "stream",
     "text": [
      "WARNING:tensorflow:From C:\\Users\\Jason\\anaconda3\\envs\\PythonData\\lib\\site-packages\\tensorflow\\python\\ops\\init_ops.py:1251: calling VarianceScaling.__init__ (from tensorflow.python.ops.init_ops) with dtype is deprecated and will be removed in a future version.\n",
      "Instructions for updating:\n",
      "Call initializer instance with the dtype argument instead of passing it to the constructor\n",
      "Model: \"sequential\"\n",
      "_________________________________________________________________\n",
      "Layer (type)                 Output Shape              Param #   \n",
      "=================================================================\n",
      "dense (Dense)                (None, 100)               1500      \n",
      "_________________________________________________________________\n",
      "dense_1 (Dense)              (None, 50)                5050      \n",
      "_________________________________________________________________\n",
      "dense_2 (Dense)              (None, 50)                2550      \n",
      "_________________________________________________________________\n",
      "dense_3 (Dense)              (None, 50)                2550      \n",
      "_________________________________________________________________\n",
      "dense_4 (Dense)              (None, 1)                 51        \n",
      "=================================================================\n",
      "Total params: 11,701\n",
      "Trainable params: 11,701\n",
      "Non-trainable params: 0\n",
      "_________________________________________________________________\n"
     ]
    }
   ],
   "source": [
    "\n",
    "nn = tf.keras.models.Sequential()\n",
    "\n",
    "for layer in layers:\n",
    "    nn.add(tf.keras.layers.Dense(**layer))\n",
    "\n",
    "# Check the structure of the model\n",
    "nn.summary()"
   ]
  },
  {
   "cell_type": "code",
   "execution_count": 24,
   "metadata": {},
   "outputs": [
    {
     "name": "stdout",
     "output_type": "stream",
     "text": [
      "WARNING:tensorflow:From C:\\Users\\Jason\\anaconda3\\envs\\PythonData\\lib\\site-packages\\tensorflow\\python\\ops\\nn_impl.py:180: add_dispatch_support.<locals>.wrapper (from tensorflow.python.ops.array_ops) is deprecated and will be removed in a future version.\n",
      "Instructions for updating:\n",
      "Use tf.where in 2.0, which has the same broadcast rule as np.where\n"
     ]
    }
   ],
   "source": [
    "# Compile the model\n",
    "nn.compile(optimizer = 'adam', loss='binary_crossentropy', metrics=['accuracy'])"
   ]
  },
  {
   "cell_type": "code",
   "execution_count": 25,
   "metadata": {},
   "outputs": [
    {
     "name": "stdout",
     "output_type": "stream",
     "text": [
      "Epoch 1/200\n",
      "25724/25724 [==============================] - 1s 38us/sample - loss: 0.6526 - acc: 0.6054\n",
      "Epoch 2/200\n",
      "25724/25724 [==============================] - 1s 33us/sample - loss: 0.6471 - acc: 0.6116\n",
      "Epoch 3/200\n",
      "25724/25724 [==============================] - 1s 30us/sample - loss: 0.6465 - acc: 0.6120\n",
      "Epoch 4/200\n",
      "25724/25724 [==============================] - 1s 30us/sample - loss: 0.6465 - acc: 0.6130\n",
      "Epoch 5/200\n",
      "25724/25724 [==============================] - 1s 29us/sample - loss: 0.6465 - acc: 0.6108\n",
      "Epoch 6/200\n",
      "25724/25724 [==============================] - 1s 30us/sample - loss: 0.6461 - acc: 0.6130\n",
      "Epoch 7/200\n",
      "25724/25724 [==============================] - 1s 33us/sample - loss: 0.6459 - acc: 0.6144\n",
      "Epoch 8/200\n",
      "25724/25724 [==============================] - 1s 29us/sample - loss: 0.6457 - acc: 0.6141\n",
      "Epoch 9/200\n",
      "25724/25724 [==============================] - 1s 37us/sample - loss: 0.6454 - acc: 0.6146\n",
      "Epoch 10/200\n",
      "25724/25724 [==============================] - 1s 32us/sample - loss: 0.6453 - acc: 0.6141\n",
      "Epoch 11/200\n",
      "25724/25724 [==============================] - 1s 35us/sample - loss: 0.6449 - acc: 0.6144\n",
      "Epoch 12/200\n",
      "25724/25724 [==============================] - 1s 31us/sample - loss: 0.6450 - acc: 0.6124\n",
      "Epoch 13/200\n",
      "25724/25724 [==============================] - 1s 32us/sample - loss: 0.6449 - acc: 0.6136\n",
      "Epoch 14/200\n",
      "25724/25724 [==============================] - 1s 33us/sample - loss: 0.6443 - acc: 0.6153\n",
      "Epoch 15/200\n",
      "25724/25724 [==============================] - 1s 30us/sample - loss: 0.6444 - acc: 0.6172\n",
      "Epoch 16/200\n",
      "25724/25724 [==============================] - 1s 30us/sample - loss: 0.6444 - acc: 0.6150\n",
      "Epoch 17/200\n",
      "25724/25724 [==============================] - 1s 34us/sample - loss: 0.6447 - acc: 0.6160\n",
      "Epoch 18/200\n",
      "25724/25724 [==============================] - 1s 31us/sample - loss: 0.6442 - acc: 0.6158\n",
      "Epoch 19/200\n",
      "25724/25724 [==============================] - 1s 32us/sample - loss: 0.6439 - acc: 0.6175\n",
      "Epoch 20/200\n",
      "25724/25724 [==============================] - 1s 33us/sample - loss: 0.6438 - acc: 0.6179\n",
      "Epoch 21/200\n",
      "25724/25724 [==============================] - 1s 31us/sample - loss: 0.6439 - acc: 0.6175\n",
      "Epoch 22/200\n",
      "25724/25724 [==============================] - 1s 29us/sample - loss: 0.6438 - acc: 0.6171\n",
      "Epoch 23/200\n",
      "25724/25724 [==============================] - 1s 29us/sample - loss: 0.6438 - acc: 0.6161\n",
      "Epoch 24/200\n",
      "25724/25724 [==============================] - 1s 29us/sample - loss: 0.6438 - acc: 0.6168\n",
      "Epoch 25/200\n",
      "25724/25724 [==============================] - 1s 32us/sample - loss: 0.6435 - acc: 0.6161\n",
      "Epoch 26/200\n",
      "25724/25724 [==============================] - 1s 40us/sample - loss: 0.6437 - acc: 0.6179\n",
      "Epoch 27/200\n",
      "25724/25724 [==============================] - 1s 36us/sample - loss: 0.6437 - acc: 0.6162\n",
      "Epoch 28/200\n",
      "25724/25724 [==============================] - 1s 32us/sample - loss: 0.6435 - acc: 0.6174\n",
      "Epoch 29/200\n",
      "25724/25724 [==============================] - 1s 31us/sample - loss: 0.6438 - acc: 0.6159\n",
      "Epoch 30/200\n",
      "25724/25724 [==============================] - 1s 31us/sample - loss: 0.6433 - acc: 0.6179\n",
      "Epoch 31/200\n",
      "25724/25724 [==============================] - 1s 35us/sample - loss: 0.6433 - acc: 0.6183\n",
      "Epoch 32/200\n",
      "25724/25724 [==============================] - 1s 31us/sample - loss: 0.6433 - acc: 0.6177\n",
      "Epoch 33/200\n",
      "25724/25724 [==============================] - 1s 32us/sample - loss: 0.6434 - acc: 0.6167\n",
      "Epoch 34/200\n",
      "25724/25724 [==============================] - 1s 30us/sample - loss: 0.6433 - acc: 0.6153\n",
      "Epoch 35/200\n",
      "25724/25724 [==============================] - 1s 29us/sample - loss: 0.6434 - acc: 0.6172\n",
      "Epoch 36/200\n",
      "25724/25724 [==============================] - 1s 30us/sample - loss: 0.6441 - acc: 0.6172\n",
      "Epoch 37/200\n",
      "25724/25724 [==============================] - 1s 31us/sample - loss: 0.6432 - acc: 0.6181\n",
      "Epoch 38/200\n",
      "25724/25724 [==============================] - 1s 33us/sample - loss: 0.6431 - acc: 0.6176\n",
      "Epoch 39/200\n",
      "25724/25724 [==============================] - 1s 29us/sample - loss: 0.6432 - acc: 0.6181\n",
      "Epoch 40/200\n",
      "25724/25724 [==============================] - 1s 29us/sample - loss: 0.6431 - acc: 0.6186\n",
      "Epoch 41/200\n",
      "25724/25724 [==============================] - 1s 29us/sample - loss: 0.6431 - acc: 0.6183\n",
      "Epoch 42/200\n",
      "25724/25724 [==============================] - 1s 29us/sample - loss: 0.6431 - acc: 0.6167\n",
      "Epoch 43/200\n",
      "25724/25724 [==============================] - 1s 29us/sample - loss: 0.6433 - acc: 0.6183\n",
      "Epoch 44/200\n",
      "25724/25724 [==============================] - 1s 31us/sample - loss: 0.6430 - acc: 0.6184\n",
      "Epoch 45/200\n",
      "25724/25724 [==============================] - 1s 32us/sample - loss: 0.6429 - acc: 0.6184\n",
      "Epoch 46/200\n",
      "25724/25724 [==============================] - 1s 29us/sample - loss: 0.6432 - acc: 0.6170\n",
      "Epoch 47/200\n",
      "25724/25724 [==============================] - 1s 29us/sample - loss: 0.6434 - acc: 0.6156\n",
      "Epoch 48/200\n",
      "25724/25724 [==============================] - 1s 31us/sample - loss: 0.6428 - acc: 0.6176\n",
      "Epoch 49/200\n",
      "25724/25724 [==============================] - 1s 31us/sample - loss: 0.6432 - acc: 0.6185\n",
      "Epoch 50/200\n",
      "25724/25724 [==============================] - 1s 29us/sample - loss: 0.6430 - acc: 0.6193\n",
      "Epoch 51/200\n",
      "25724/25724 [==============================] - 1s 30us/sample - loss: 0.6427 - acc: 0.6187\n",
      "Epoch 52/200\n",
      "25724/25724 [==============================] - 1s 33us/sample - loss: 0.6430 - acc: 0.6192\n",
      "Epoch 53/200\n",
      "25724/25724 [==============================] - 1s 29us/sample - loss: 0.6428 - acc: 0.6182\n",
      "Epoch 54/200\n",
      "25724/25724 [==============================] - 1s 31us/sample - loss: 0.6428 - acc: 0.6174\n",
      "Epoch 55/200\n",
      "25724/25724 [==============================] - 1s 30us/sample - loss: 0.6429 - acc: 0.6174\n",
      "Epoch 56/200\n",
      "25724/25724 [==============================] - 1s 31us/sample - loss: 0.6429 - acc: 0.6185\n",
      "Epoch 57/200\n",
      "25724/25724 [==============================] - 1s 33us/sample - loss: 0.6428 - acc: 0.6183\n",
      "Epoch 58/200\n",
      "25724/25724 [==============================] - 1s 30us/sample - loss: 0.6429 - acc: 0.6180\n",
      "Epoch 59/200\n",
      "25724/25724 [==============================] - 1s 30us/sample - loss: 0.6427 - acc: 0.6174\n",
      "Epoch 60/200\n",
      "25724/25724 [==============================] - 1s 31us/sample - loss: 0.6426 - acc: 0.6181\n",
      "Epoch 61/200\n",
      "25724/25724 [==============================] - 1s 30us/sample - loss: 0.6428 - acc: 0.6173\n",
      "Epoch 62/200\n",
      "25724/25724 [==============================] - 1s 32us/sample - loss: 0.6430 - acc: 0.6182\n",
      "Epoch 63/200\n",
      "25724/25724 [==============================] - 1s 29us/sample - loss: 0.6428 - acc: 0.6178\n",
      "Epoch 64/200\n",
      "25724/25724 [==============================] - 1s 30us/sample - loss: 0.6427 - acc: 0.6182\n",
      "Epoch 65/200\n",
      "25724/25724 [==============================] - 1s 30us/sample - loss: 0.6424 - acc: 0.6183\n",
      "Epoch 66/200\n",
      "25724/25724 [==============================] - 1s 31us/sample - loss: 0.6427 - acc: 0.6187\n",
      "Epoch 67/200\n",
      "25724/25724 [==============================] - 1s 29us/sample - loss: 0.6427 - acc: 0.6179\n",
      "Epoch 68/200\n",
      "25724/25724 [==============================] - 1s 29us/sample - loss: 0.6427 - acc: 0.6181\n",
      "Epoch 69/200\n",
      "25724/25724 [==============================] - 1s 29us/sample - loss: 0.6427 - acc: 0.6186\n",
      "Epoch 70/200\n",
      "25724/25724 [==============================] - 1s 29us/sample - loss: 0.6426 - acc: 0.6201\n",
      "Epoch 71/200\n",
      "25724/25724 [==============================] - 1s 31us/sample - loss: 0.6425 - acc: 0.6181\n",
      "Epoch 72/200\n",
      "25724/25724 [==============================] - 1s 30us/sample - loss: 0.6425 - acc: 0.6193\n",
      "Epoch 73/200\n",
      "25724/25724 [==============================] - 1s 29us/sample - loss: 0.6424 - acc: 0.6174\n",
      "Epoch 74/200\n",
      "25724/25724 [==============================] - 1s 29us/sample - loss: 0.6425 - acc: 0.6190\n",
      "Epoch 75/200\n",
      "25724/25724 [==============================] - 1s 30us/sample - loss: 0.6424 - acc: 0.6185\n",
      "Epoch 76/200\n",
      "25724/25724 [==============================] - 1s 30us/sample - loss: 0.6425 - acc: 0.6183\n",
      "Epoch 77/200\n",
      "25724/25724 [==============================] - 1s 31us/sample - loss: 0.6424 - acc: 0.6179\n",
      "Epoch 78/200\n",
      "25724/25724 [==============================] - 1s 31us/sample - loss: 0.6422 - acc: 0.6197\n",
      "Epoch 79/200\n",
      "25724/25724 [==============================] - 1s 31us/sample - loss: 0.6425 - acc: 0.6191\n",
      "Epoch 80/200\n",
      "25724/25724 [==============================] - 1s 33us/sample - loss: 0.6423 - acc: 0.6183\n",
      "Epoch 81/200\n",
      "25724/25724 [==============================] - 1s 31us/sample - loss: 0.6422 - acc: 0.6178\n",
      "Epoch 82/200\n",
      "25724/25724 [==============================] - 1s 29us/sample - loss: 0.6424 - acc: 0.6187\n",
      "Epoch 83/200\n",
      "25724/25724 [==============================] - 1s 29us/sample - loss: 0.6423 - acc: 0.6186\n",
      "Epoch 84/200\n",
      "25724/25724 [==============================] - 1s 31us/sample - loss: 0.6426 - acc: 0.6186\n",
      "Epoch 85/200\n",
      "25724/25724 [==============================] - 1s 32us/sample - loss: 0.6423 - acc: 0.6188\n",
      "Epoch 86/200\n",
      "25724/25724 [==============================] - 1s 30us/sample - loss: 0.6422 - acc: 0.6188\n",
      "Epoch 87/200\n",
      "25724/25724 [==============================] - 1s 31us/sample - loss: 0.6432 - acc: 0.6197\n",
      "Epoch 88/200\n",
      "25724/25724 [==============================] - 1s 31us/sample - loss: 0.6420 - acc: 0.6178\n",
      "Epoch 89/200\n",
      "25724/25724 [==============================] - 1s 31us/sample - loss: 0.6423 - acc: 0.6176\n",
      "Epoch 90/200\n",
      "25724/25724 [==============================] - 1s 31us/sample - loss: 0.6422 - acc: 0.6191\n",
      "Epoch 91/200\n",
      "25724/25724 [==============================] - 1s 30us/sample - loss: 0.6422 - acc: 0.6178\n",
      "Epoch 92/200\n",
      "25724/25724 [==============================] - 1s 30us/sample - loss: 0.6422 - acc: 0.6171\n",
      "Epoch 93/200\n",
      "25724/25724 [==============================] - 1s 30us/sample - loss: 0.6422 - acc: 0.6183\n",
      "Epoch 94/200\n",
      "25724/25724 [==============================] - 1s 29us/sample - loss: 0.6422 - acc: 0.6184\n",
      "Epoch 95/200\n",
      "25724/25724 [==============================] - 1s 30us/sample - loss: 0.6421 - acc: 0.6185\n",
      "Epoch 96/200\n",
      "25724/25724 [==============================] - 1s 30us/sample - loss: 0.6422 - acc: 0.6188\n",
      "Epoch 97/200\n",
      "25724/25724 [==============================] - 1s 32us/sample - loss: 0.6423 - acc: 0.6176\n",
      "Epoch 98/200\n",
      "25724/25724 [==============================] - 1s 29us/sample - loss: 0.6422 - acc: 0.6184\n",
      "Epoch 99/200\n",
      "25724/25724 [==============================] - 1s 33us/sample - loss: 0.6421 - acc: 0.6188\n",
      "Epoch 100/200\n",
      "25724/25724 [==============================] - 1s 33us/sample - loss: 0.6424 - acc: 0.6185\n",
      "Epoch 101/200\n",
      "25724/25724 [==============================] - 1s 29us/sample - loss: 0.6421 - acc: 0.6181\n",
      "Epoch 102/200\n",
      "25724/25724 [==============================] - 1s 30us/sample - loss: 0.6418 - acc: 0.6179\n",
      "Epoch 103/200\n",
      "25724/25724 [==============================] - 1s 29us/sample - loss: 0.6420 - acc: 0.6186\n",
      "Epoch 104/200\n",
      "25724/25724 [==============================] - 1s 29us/sample - loss: 0.6420 - acc: 0.6191\n",
      "Epoch 105/200\n",
      "25724/25724 [==============================] - 1s 29us/sample - loss: 0.6421 - acc: 0.6182\n",
      "Epoch 106/200\n",
      "25724/25724 [==============================] - 1s 29us/sample - loss: 0.6422 - acc: 0.6188\n",
      "Epoch 107/200\n",
      "25724/25724 [==============================] - 1s 29us/sample - loss: 0.6422 - acc: 0.6192\n",
      "Epoch 108/200\n",
      "25724/25724 [==============================] - 1s 29us/sample - loss: 0.6422 - acc: 0.6184\n",
      "Epoch 109/200\n",
      "25724/25724 [==============================] - 1s 29us/sample - loss: 0.6420 - acc: 0.6186\n",
      "Epoch 110/200\n",
      "25724/25724 [==============================] - 1s 30us/sample - loss: 0.6419 - acc: 0.6183\n",
      "Epoch 111/200\n",
      "25724/25724 [==============================] - 1s 29us/sample - loss: 0.6421 - acc: 0.6203\n",
      "Epoch 112/200\n",
      "25724/25724 [==============================] - 1s 31us/sample - loss: 0.6420 - acc: 0.6179\n",
      "Epoch 113/200\n",
      "25724/25724 [==============================] - 1s 30us/sample - loss: 0.6431 - acc: 0.6180\n",
      "Epoch 114/200\n",
      "25724/25724 [==============================] - 1s 31us/sample - loss: 0.6420 - acc: 0.6186\n",
      "Epoch 115/200\n",
      "25724/25724 [==============================] - 1s 30us/sample - loss: 0.6419 - acc: 0.6184\n",
      "Epoch 116/200\n",
      "25724/25724 [==============================] - 1s 30us/sample - loss: 0.6425 - acc: 0.6193\n",
      "Epoch 117/200\n",
      "25724/25724 [==============================] - 1s 31us/sample - loss: 0.6418 - acc: 0.6187\n",
      "Epoch 118/200\n",
      "25724/25724 [==============================] - 1s 33us/sample - loss: 0.6419 - acc: 0.6177\n",
      "Epoch 119/200\n",
      "25724/25724 [==============================] - 1s 32us/sample - loss: 0.6420 - acc: 0.6188\n",
      "Epoch 120/200\n",
      "25724/25724 [==============================] - 1s 37us/sample - loss: 0.6420 - acc: 0.6189\n",
      "Epoch 121/200\n",
      "25724/25724 [==============================] - 1s 33us/sample - loss: 0.6420 - acc: 0.6185\n",
      "Epoch 122/200\n",
      "25724/25724 [==============================] - 1s 30us/sample - loss: 0.6418 - acc: 0.6188\n",
      "Epoch 123/200\n",
      "25724/25724 [==============================] - 1s 31us/sample - loss: 0.6420 - acc: 0.6192\n",
      "Epoch 124/200\n",
      "25724/25724 [==============================] - 1s 29us/sample - loss: 0.6420 - acc: 0.6181\n",
      "Epoch 125/200\n",
      "25724/25724 [==============================] - 1s 29us/sample - loss: 0.6417 - acc: 0.6185\n",
      "Epoch 126/200\n",
      "25724/25724 [==============================] - 1s 29us/sample - loss: 0.6418 - acc: 0.6193\n",
      "Epoch 127/200\n",
      "25724/25724 [==============================] - 1s 29us/sample - loss: 0.6419 - acc: 0.6183\n",
      "Epoch 128/200\n",
      "25724/25724 [==============================] - 1s 30us/sample - loss: 0.6419 - acc: 0.6192\n",
      "Epoch 129/200\n",
      "25724/25724 [==============================] - 1s 31us/sample - loss: 0.6416 - acc: 0.6181\n",
      "Epoch 130/200\n",
      "25724/25724 [==============================] - 1s 31us/sample - loss: 0.6419 - acc: 0.6190\n",
      "Epoch 131/200\n",
      "25724/25724 [==============================] - 1s 31us/sample - loss: 0.6417 - acc: 0.6193\n",
      "Epoch 132/200\n",
      "25724/25724 [==============================] - 1s 30us/sample - loss: 0.6418 - acc: 0.6201\n",
      "Epoch 133/200\n",
      "25724/25724 [==============================] - 1s 31us/sample - loss: 0.6418 - acc: 0.6184\n",
      "Epoch 134/200\n",
      "25724/25724 [==============================] - 1s 30us/sample - loss: 0.6422 - acc: 0.6193\n",
      "Epoch 135/200\n",
      "25724/25724 [==============================] - 1s 30us/sample - loss: 0.6417 - acc: 0.6187\n",
      "Epoch 136/200\n",
      "25724/25724 [==============================] - 1s 30us/sample - loss: 0.6418 - acc: 0.6192\n",
      "Epoch 137/200\n",
      "25724/25724 [==============================] - 1s 30us/sample - loss: 0.6418 - acc: 0.6188\n",
      "Epoch 138/200\n",
      "25724/25724 [==============================] - 1s 30us/sample - loss: 0.6418 - acc: 0.6188\n",
      "Epoch 139/200\n",
      "25724/25724 [==============================] - 1s 30us/sample - loss: 0.6415 - acc: 0.6186\n",
      "Epoch 140/200\n",
      "25724/25724 [==============================] - 1s 29us/sample - loss: 0.6417 - acc: 0.6187\n",
      "Epoch 141/200\n",
      "25724/25724 [==============================] - 1s 31us/sample - loss: 0.6420 - acc: 0.6183\n",
      "Epoch 142/200\n",
      "25724/25724 [==============================] - 1s 29us/sample - loss: 0.6417 - acc: 0.6193\n",
      "Epoch 143/200\n",
      "25724/25724 [==============================] - 1s 30us/sample - loss: 0.6417 - acc: 0.6193\n",
      "Epoch 144/200\n",
      "25724/25724 [==============================] - 1s 30us/sample - loss: 0.6416 - acc: 0.6186\n",
      "Epoch 145/200\n",
      "25724/25724 [==============================] - 1s 30us/sample - loss: 0.6416 - acc: 0.6187\n",
      "Epoch 146/200\n",
      "25724/25724 [==============================] - 1s 30us/sample - loss: 0.6415 - acc: 0.6184\n",
      "Epoch 147/200\n",
      "25724/25724 [==============================] - 1s 30us/sample - loss: 0.6416 - acc: 0.6196\n",
      "Epoch 148/200\n",
      "25724/25724 [==============================] - 1s 30us/sample - loss: 0.6417 - acc: 0.6188\n",
      "Epoch 149/200\n",
      "25724/25724 [==============================] - 1s 29us/sample - loss: 0.6453 - acc: 0.6194\n",
      "Epoch 150/200\n",
      "25724/25724 [==============================] - 1s 32us/sample - loss: 0.6416 - acc: 0.6182\n",
      "Epoch 151/200\n",
      "25724/25724 [==============================] - 1s 32us/sample - loss: 0.6417 - acc: 0.6186\n",
      "Epoch 152/200\n",
      "25724/25724 [==============================] - 1s 29us/sample - loss: 0.6416 - acc: 0.6189\n",
      "Epoch 153/200\n",
      "25724/25724 [==============================] - 1s 30us/sample - loss: 0.6415 - acc: 0.6189\n",
      "Epoch 154/200\n",
      "25724/25724 [==============================] - 1s 30us/sample - loss: 0.6415 - acc: 0.6175\n",
      "Epoch 155/200\n",
      "25724/25724 [==============================] - 1s 30us/sample - loss: 0.6415 - acc: 0.6190\n",
      "Epoch 156/200\n",
      "25724/25724 [==============================] - 1s 33us/sample - loss: 0.6415 - acc: 0.6187\n",
      "Epoch 157/200\n",
      "25724/25724 [==============================] - 1s 29us/sample - loss: 0.6415 - acc: 0.6191\n",
      "Epoch 158/200\n",
      "25724/25724 [==============================] - 1s 34us/sample - loss: 0.6415 - acc: 0.6188\n",
      "Epoch 159/200\n",
      "25724/25724 [==============================] - 1s 32us/sample - loss: 0.6417 - acc: 0.6191\n",
      "Epoch 160/200\n",
      "25724/25724 [==============================] - 1s 31us/sample - loss: 0.6414 - acc: 0.6196\n",
      "Epoch 161/200\n",
      "25724/25724 [==============================] - 1s 31us/sample - loss: 0.6415 - acc: 0.6179\n",
      "Epoch 162/200\n",
      "25724/25724 [==============================] - 1s 29us/sample - loss: 0.6415 - acc: 0.6183\n",
      "Epoch 163/200\n",
      "25724/25724 [==============================] - 1s 30us/sample - loss: 0.6418 - acc: 0.6182\n",
      "Epoch 164/200\n",
      "25724/25724 [==============================] - 1s 29us/sample - loss: 0.6417 - acc: 0.6198\n",
      "Epoch 165/200\n",
      "25724/25724 [==============================] - 1s 30us/sample - loss: 0.6417 - acc: 0.6184\n",
      "Epoch 166/200\n",
      "25724/25724 [==============================] - 1s 30us/sample - loss: 0.6415 - acc: 0.6190\n",
      "Epoch 167/200\n",
      "25724/25724 [==============================] - 1s 37us/sample - loss: 0.6415 - acc: 0.6195\n",
      "Epoch 168/200\n",
      "25724/25724 [==============================] - 1s 35us/sample - loss: 0.6441 - acc: 0.6178\n",
      "Epoch 169/200\n",
      "25724/25724 [==============================] - 1s 33us/sample - loss: 0.6416 - acc: 0.6195\n",
      "Epoch 170/200\n",
      "25724/25724 [==============================] - 1s 30us/sample - loss: 0.6414 - acc: 0.6191\n",
      "Epoch 171/200\n",
      "25724/25724 [==============================] - 1s 32us/sample - loss: 0.6416 - acc: 0.6189\n",
      "Epoch 172/200\n",
      "25724/25724 [==============================] - 1s 32us/sample - loss: 0.6414 - acc: 0.6193\n",
      "Epoch 173/200\n",
      "25724/25724 [==============================] - 1s 33us/sample - loss: 0.6414 - acc: 0.6188\n",
      "Epoch 174/200\n",
      "25724/25724 [==============================] - 1s 30us/sample - loss: 0.6436 - acc: 0.6184\n",
      "Epoch 175/200\n",
      "25724/25724 [==============================] - 1s 30us/sample - loss: 0.6413 - acc: 0.6186\n",
      "Epoch 176/200\n",
      "25724/25724 [==============================] - 1s 29us/sample - loss: 0.6413 - acc: 0.6195\n",
      "Epoch 177/200\n",
      "25724/25724 [==============================] - 1s 30us/sample - loss: 0.6415 - acc: 0.6194\n",
      "Epoch 178/200\n",
      "25724/25724 [==============================] - 1s 32us/sample - loss: 0.6415 - acc: 0.6190\n",
      "Epoch 179/200\n",
      "25724/25724 [==============================] - 1s 31us/sample - loss: 0.6416 - acc: 0.6184\n",
      "Epoch 180/200\n",
      "25724/25724 [==============================] - 1s 31us/sample - loss: 0.6413 - acc: 0.6197\n",
      "Epoch 181/200\n",
      "25724/25724 [==============================] - 1s 29us/sample - loss: 0.6414 - acc: 0.6194\n",
      "Epoch 182/200\n",
      "25724/25724 [==============================] - 1s 29us/sample - loss: 0.6414 - acc: 0.6186\n",
      "Epoch 183/200\n",
      "25724/25724 [==============================] - 1s 30us/sample - loss: 0.6415 - acc: 0.6190\n",
      "Epoch 184/200\n",
      "25724/25724 [==============================] - 1s 29us/sample - loss: 0.6415 - acc: 0.6190\n",
      "Epoch 185/200\n",
      "25724/25724 [==============================] - 1s 29us/sample - loss: 0.6414 - acc: 0.6190\n",
      "Epoch 186/200\n",
      "25724/25724 [==============================] - 1s 30us/sample - loss: 0.6415 - acc: 0.6190\n",
      "Epoch 187/200\n",
      "25724/25724 [==============================] - 1s 31us/sample - loss: 0.6415 - acc: 0.6183\n",
      "Epoch 188/200\n",
      "25724/25724 [==============================] - 1s 31us/sample - loss: 0.6417 - acc: 0.6190\n",
      "Epoch 189/200\n",
      "25724/25724 [==============================] - 1s 29us/sample - loss: 0.6427 - acc: 0.6189\n",
      "Epoch 190/200\n",
      "25724/25724 [==============================] - 1s 30us/sample - loss: 0.6414 - acc: 0.6190\n",
      "Epoch 191/200\n",
      "25724/25724 [==============================] - 1s 32us/sample - loss: 0.6417 - acc: 0.6181\n",
      "Epoch 192/200\n",
      "25724/25724 [==============================] - 1s 35us/sample - loss: 0.6416 - acc: 0.6189\n",
      "Epoch 193/200\n",
      "25724/25724 [==============================] - 1s 39us/sample - loss: 0.6414 - acc: 0.6183\n",
      "Epoch 194/200\n",
      "25724/25724 [==============================] - 1s 35us/sample - loss: 0.6415 - acc: 0.6187\n",
      "Epoch 195/200\n",
      "25724/25724 [==============================] - 1s 33us/sample - loss: 0.6415 - acc: 0.6164\n",
      "Epoch 196/200\n",
      "25724/25724 [==============================] - 1s 32us/sample - loss: 0.6414 - acc: 0.6191\n",
      "Epoch 197/200\n",
      "25724/25724 [==============================] - 1s 29us/sample - loss: 0.6418 - acc: 0.6183\n",
      "Epoch 198/200\n",
      "25724/25724 [==============================] - 1s 29us/sample - loss: 0.6419 - acc: 0.6193\n",
      "Epoch 199/200\n",
      "25724/25724 [==============================] - 1s 31us/sample - loss: 0.6426 - acc: 0.6188\n",
      "Epoch 200/200\n",
      "25724/25724 [==============================] - 1s 31us/sample - loss: 0.6414 - acc: 0.6193\n"
     ]
    }
   ],
   "source": [
    "# Train the model\n",
    "model = nn.fit(X_train_scaled, y_train, epochs = 200)"
   ]
  },
  {
   "cell_type": "code",
   "execution_count": 26,
   "metadata": {},
   "outputs": [
    {
     "name": "stdout",
     "output_type": "stream",
     "text": [
      "8575/8575 - 0s - loss: 0.6543 - acc: 0.6132\n",
      "Loss: 0.6543292408295345, Accuracy: 0.6131778359413147\n"
     ]
    }
   ],
   "source": [
    "# Evaluate the model using the test data\n",
    "model_loss, model_accuracy = nn.evaluate(X_test_scaled,y_test,verbose=2)\n",
    "print(f\"Loss: {model_loss}, Accuracy: {model_accuracy}\")"
   ]
  },
  {
   "cell_type": "code",
   "execution_count": 27,
   "metadata": {},
   "outputs": [],
   "source": [
    "# Export our model to HDF5 file\n",
    "nn.save('minimal_hyperparameters_model.h5')"
   ]
  }
 ],
 "metadata": {
  "interpreter": {
   "hash": "79264824c40396a64d10485446bbc394f17a77ecfe3bed33e1bfdf8fe75a4647"
  },
  "kernelspec": {
   "display_name": "Python 3.6.10 64-bit ('PythonData': conda)",
   "name": "python3"
  },
  "language_info": {
   "codemirror_mode": {
    "name": "ipython",
    "version": 3
   },
   "file_extension": ".py",
   "mimetype": "text/x-python",
   "name": "python",
   "nbconvert_exporter": "python",
   "pygments_lexer": "ipython3",
   "version": "3.6.10"
  }
 },
 "nbformat": 4,
 "nbformat_minor": 4
}
